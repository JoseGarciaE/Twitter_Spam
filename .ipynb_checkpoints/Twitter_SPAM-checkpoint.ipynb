{
 "cells": [
  {
   "cell_type": "code",
   "execution_count": 190,
   "id": "e4d93e0b",
   "metadata": {},
   "outputs": [],
   "source": [
    "import random\n",
    "import re\n",
    "\n",
    "import numpy as np\n",
    "import pandas as pd\n",
    "import matplotlib.pyplot as plt\n",
    "import seaborn as sns"
   ]
  },
  {
   "cell_type": "markdown",
   "id": "0704d604",
   "metadata": {},
   "source": [
    "# Twitter API Configuration"
   ]
  },
  {
   "cell_type": "code",
   "execution_count": 191,
   "id": "699f8293",
   "metadata": {
    "scrolled": true
   },
   "outputs": [],
   "source": [
    "import requests\n",
    "import os\n",
    "import json"
   ]
  },
  {
   "cell_type": "code",
   "execution_count": 192,
   "id": "7c40c516",
   "metadata": {},
   "outputs": [],
   "source": [
    "# bearer_token = os.environ['BEARER_TOKEN']\n",
    "\n",
    "def create_url(tweetIDS):\n",
    "    ids = \"ids=\" + tweetIDS\n",
    "    tweet_fields = \"tweet.fields=source,lang,created_at,public_metrics,context_annotations\"\n",
    "    url = \"https://api.twitter.com/2/tweets?{}&{}\".format(ids, tweet_fields)\n",
    "    return url\n",
    "\n",
    "\n",
    "def bearer_oauth(r):\n",
    "    r.headers[\"Authorization\"] = f\"Bearer {bearer_token}\"\n",
    "    r.headers[\"User-Agent\"] = \"v2TweetLookupPython\"\n",
    "    return r\n",
    "\n",
    "\n",
    "def connect_to_endpoint(url):\n",
    "    response = requests.request(\"GET\", url, auth=bearer_oauth)\n",
    "    print(response.status_code)\n",
    "    if response.status_code != 200:\n",
    "        raise Exception(\n",
    "            \"Request returned an error: {} {}\".format(\n",
    "                response.status_code, response.text\n",
    "            )\n",
    "        )\n",
    "    return response.json()"
   ]
  },
  {
   "cell_type": "markdown",
   "id": "a7d5441f",
   "metadata": {},
   "source": [
    "# Loading Research Data"
   ]
  },
  {
   "cell_type": "code",
   "execution_count": 193,
   "id": "c5d31719",
   "metadata": {
    "scrolled": true
   },
   "outputs": [],
   "source": [
    "# sourced from: https://journals.plos.org/plosone/article?id=10.1371/journal.pone.0182487\n",
    "\n",
    "df = pd.read_excel('pone.0182487.s003.xlsx')"
   ]
  },
  {
   "cell_type": "code",
   "execution_count": 194,
   "id": "4536d85b",
   "metadata": {},
   "outputs": [
    {
     "data": {
      "text/html": [
       "<div>\n",
       "<style scoped>\n",
       "    .dataframe tbody tr th:only-of-type {\n",
       "        vertical-align: middle;\n",
       "    }\n",
       "\n",
       "    .dataframe tbody tr th {\n",
       "        vertical-align: top;\n",
       "    }\n",
       "\n",
       "    .dataframe thead th {\n",
       "        text-align: right;\n",
       "    }\n",
       "</style>\n",
       "<table border=\"1\" class=\"dataframe\">\n",
       "  <thead>\n",
       "    <tr style=\"text-align: right;\">\n",
       "      <th></th>\n",
       "      <th>S1 Table - Tweet data and labels</th>\n",
       "      <th>Unnamed: 1</th>\n",
       "    </tr>\n",
       "  </thead>\n",
       "  <tbody>\n",
       "    <tr>\n",
       "      <th>0</th>\n",
       "      <td>We have used the data according to the Twitter...</td>\n",
       "      <td>NaN</td>\n",
       "    </tr>\n",
       "    <tr>\n",
       "      <th>1</th>\n",
       "      <td>NaN</td>\n",
       "      <td>NaN</td>\n",
       "    </tr>\n",
       "    <tr>\n",
       "      <th>2</th>\n",
       "      <td>NaN</td>\n",
       "      <td>NaN</td>\n",
       "    </tr>\n",
       "    <tr>\n",
       "      <th>3</th>\n",
       "      <td>Tweet id</td>\n",
       "      <td>Label</td>\n",
       "    </tr>\n",
       "    <tr>\n",
       "      <th>4</th>\n",
       "      <td>732113301144883204</td>\n",
       "      <td>0</td>\n",
       "    </tr>\n",
       "  </tbody>\n",
       "</table>\n",
       "</div>"
      ],
      "text/plain": [
       "                    S1 Table - Tweet data and labels Unnamed: 1\n",
       "0  We have used the data according to the Twitter...        NaN\n",
       "1                                                NaN        NaN\n",
       "2                                                NaN        NaN\n",
       "3                                           Tweet id      Label\n",
       "4                                 732113301144883204          0"
      ]
     },
     "execution_count": 194,
     "metadata": {},
     "output_type": "execute_result"
    }
   ],
   "source": [
    "df.head()"
   ]
  },
  {
   "cell_type": "code",
   "execution_count": 195,
   "id": "fb814117",
   "metadata": {
    "scrolled": false
   },
   "outputs": [
    {
     "data": {
      "text/html": [
       "<div>\n",
       "<style scoped>\n",
       "    .dataframe tbody tr th:only-of-type {\n",
       "        vertical-align: middle;\n",
       "    }\n",
       "\n",
       "    .dataframe tbody tr th {\n",
       "        vertical-align: top;\n",
       "    }\n",
       "\n",
       "    .dataframe thead th {\n",
       "        text-align: right;\n",
       "    }\n",
       "</style>\n",
       "<table border=\"1\" class=\"dataframe\">\n",
       "  <thead>\n",
       "    <tr style=\"text-align: right;\">\n",
       "      <th></th>\n",
       "      <th>id</th>\n",
       "      <th>spam</th>\n",
       "    </tr>\n",
       "  </thead>\n",
       "  <tbody>\n",
       "    <tr>\n",
       "      <th>4</th>\n",
       "      <td>732113301144883204</td>\n",
       "      <td>0</td>\n",
       "    </tr>\n",
       "    <tr>\n",
       "      <th>5</th>\n",
       "      <td>732113301182746624</td>\n",
       "      <td>0</td>\n",
       "    </tr>\n",
       "    <tr>\n",
       "      <th>6</th>\n",
       "      <td>732113301145014272</td>\n",
       "      <td>0</td>\n",
       "    </tr>\n",
       "    <tr>\n",
       "      <th>7</th>\n",
       "      <td>732113301149089794</td>\n",
       "      <td>0</td>\n",
       "    </tr>\n",
       "    <tr>\n",
       "      <th>8</th>\n",
       "      <td>732113301178552320</td>\n",
       "      <td>0</td>\n",
       "    </tr>\n",
       "  </tbody>\n",
       "</table>\n",
       "</div>"
      ],
      "text/plain": [
       "                   id spam\n",
       "4  732113301144883204    0\n",
       "5  732113301182746624    0\n",
       "6  732113301145014272    0\n",
       "7  732113301149089794    0\n",
       "8  732113301178552320    0"
      ]
     },
     "execution_count": 195,
     "metadata": {},
     "output_type": "execute_result"
    }
   ],
   "source": [
    "#Fixing columnns and rows\n",
    "df = df.drop([0,1,2,3])\n",
    "df = df.set_axis(['id', 'spam'], axis='columns')\n",
    "df.head()"
   ]
  },
  {
   "cell_type": "markdown",
   "id": "a6e27bfa",
   "metadata": {},
   "source": [
    "# Visualization"
   ]
  },
  {
   "cell_type": "code",
   "execution_count": 196,
   "id": "44c05f2c",
   "metadata": {},
   "outputs": [
    {
     "name": "stdout",
     "output_type": "stream",
     "text": [
      "Spam Count: 9945\n",
      "Good Count: 90055\n",
      "Spam to Good Ratio: 0.09945\n"
     ]
    },
    {
     "data": {
      "image/png": "[encoded data removed]",
      "text/plain": [
       "<Figure size 432x288 with 1 Axes>"
      ]
     },
     "metadata": {
      "needs_background": "light"
     },
     "output_type": "display_data"
    }
   ],
   "source": [
    "spamCount = df[df['spam']==1].shape[0]\n",
    "goodCount = df[df['spam']==0].shape[0]\n",
    "\n",
    "sns.countplot(data=df, x='spam')\n",
    "\n",
    "print('Spam Count:', spamCount)\n",
    "print('Good Count:', goodCount)\n",
    "print('Spam to Good Ratio:', spamCount/(spamCount+goodCount))"
   ]
  },
  {
   "cell_type": "markdown",
   "id": "10a70c43",
   "metadata": {},
   "source": [
    "# Collecting Tweet data given research data"
   ]
  },
  {
   "cell_type": "code",
   "execution_count": 197,
   "id": "82e633f8",
   "metadata": {},
   "outputs": [],
   "source": [
    "# tweetIDS = []\n",
    "# temp = ''\n",
    "# for count, val in enumerate(df['id']):\n",
    "#     temp = temp + val + ','\n",
    "#     if count != 0 and count % 99 == 0:\n",
    "#         temp = temp[:-1]\n",
    "#         tweetIDS.append(temp)\n",
    "#         temp = ''\n",
    "\n",
    "# tweetJSON = []\n",
    "\n",
    "# for i in tweetIDS:\n",
    "#     url = create_url(i)\n",
    "#     json_response = connect_to_endpoint(url)\n",
    "#     tweetJSON.append(json_response)\n",
    "\n",
    "# tweetDF = pd.DataFrame(columns=['id', 'lang', 'created_at', 'source', 'text', 'like_count', 'reply_count', 'quote_count'])\n",
    "\n",
    "# for val in tweetJSON:\n",
    "#     for i in val['data']:\n",
    "#         temp = {\n",
    "#             'id': i['id'],\n",
    "#             'lang': i['lang'],\n",
    "#             'created_at': i['created_at'],\n",
    "#             'source': i['source'],\n",
    "#             'text': i['text'],\n",
    "#             'like_count': i['public_metrics']['like_count'],\n",
    "#             'reply_count': i['public_metrics']['reply_count'],\n",
    "#             'quote_count': i['public_metrics']['quote_count']\n",
    "#         }\n",
    "        \n",
    "#         tweetDF = tweetDF.append(temp, ignore_index=True)\n",
    "\n",
    "# tweetDF.to_csv('tweets.csv')"
   ]
  },
  {
   "cell_type": "markdown",
   "id": "e0c9c542",
   "metadata": {},
   "source": [
    "<!-- tweetIDS = []\n",
    "temp = ''\n",
    "for count, val in enumerate(df['id']):\n",
    "    temp = temp + val + ','\n",
    "    if count != 0 and count % 99 == 0:\n",
    "        temp = temp[:-1]\n",
    "        tweetIDS.append(temp)\n",
    "        temp = ''\n",
    "\n",
    "tweetJSON = []\n",
    "\n",
    "for i in tweetIDS:\n",
    "    url = create_url(i)\n",
    "    json_response = connect_to_endpoint(url)\n",
    "    tweetJSON.append(json_response)\n",
    "\n",
    "tweetDF = pd.DataFrame(columns=['id', 'lang', 'created_at', 'source', 'text', 'like_count', 'reply_count', 'quote_count'])\n",
    "\n",
    "for val in tweetJSON:\n",
    "    for i in val['data']:\n",
    "        temp = {\n",
    "            'id': i['id'],\n",
    "            'lang': i['lang'],\n",
    "            'created_at': i['created_at'],\n",
    "            'source': i['source'],\n",
    "            'text': i['text'],\n",
    "            'like_count': i['public_metrics']['like_count'],\n",
    "            'reply_count': i['public_metrics']['reply_count'],\n",
    "            'quote_count': i['public_metrics']['quote_count']\n",
    "        }\n",
    "        \n",
    "        tweetDF = tweetDF.append(temp, ignore_index=True)\n",
    "\n",
    "tweetDF.to_csv('tweets.csv') -->"
   ]
  },
  {
   "cell_type": "markdown",
   "id": "d2065b49",
   "metadata": {},
   "source": [
    "# Combing Tweet Data and Research Data"
   ]
  },
  {
   "cell_type": "code",
   "execution_count": 198,
   "id": "5fcb321e",
   "metadata": {},
   "outputs": [
    {
     "data": {
      "text/html": [
       "<div>\n",
       "<style scoped>\n",
       "    .dataframe tbody tr th:only-of-type {\n",
       "        vertical-align: middle;\n",
       "    }\n",
       "\n",
       "    .dataframe tbody tr th {\n",
       "        vertical-align: top;\n",
       "    }\n",
       "\n",
       "    .dataframe thead th {\n",
       "        text-align: right;\n",
       "    }\n",
       "</style>\n",
       "<table border=\"1\" class=\"dataframe\">\n",
       "  <thead>\n",
       "    <tr style=\"text-align: right;\">\n",
       "      <th></th>\n",
       "      <th>id</th>\n",
       "      <th>lang</th>\n",
       "      <th>created_at</th>\n",
       "      <th>source</th>\n",
       "      <th>text</th>\n",
       "      <th>like_count</th>\n",
       "      <th>reply_count</th>\n",
       "      <th>quote_count</th>\n",
       "      <th>spam</th>\n",
       "    </tr>\n",
       "  </thead>\n",
       "  <tbody>\n",
       "    <tr>\n",
       "      <th>0</th>\n",
       "      <td>732113301182746624</td>\n",
       "      <td>en</td>\n",
       "      <td>2016-05-16T07:39:47.000Z</td>\n",
       "      <td>Tweetbot for iΟS</td>\n",
       "      <td>RT @odinodin: I just made a tool for inspectin...</td>\n",
       "      <td>0</td>\n",
       "      <td>0</td>\n",
       "      <td>0</td>\n",
       "      <td>0</td>\n",
       "    </tr>\n",
       "    <tr>\n",
       "      <th>1</th>\n",
       "      <td>732113301145014272</td>\n",
       "      <td>en</td>\n",
       "      <td>2016-05-16T07:39:47.000Z</td>\n",
       "      <td>Twitter for Android</td>\n",
       "      <td>HAPPY BIRTHDAY JOSEPH 💓 @JosephMorgan</td>\n",
       "      <td>0</td>\n",
       "      <td>0</td>\n",
       "      <td>0</td>\n",
       "      <td>0</td>\n",
       "    </tr>\n",
       "    <tr>\n",
       "      <th>2</th>\n",
       "      <td>732113301149089794</td>\n",
       "      <td>en</td>\n",
       "      <td>2016-05-16T07:39:47.000Z</td>\n",
       "      <td>Twitter for iPad</td>\n",
       "      <td>RT @zeecinema: Yeh inka dopahar ka program hai...</td>\n",
       "      <td>0</td>\n",
       "      <td>0</td>\n",
       "      <td>0</td>\n",
       "      <td>0</td>\n",
       "    </tr>\n",
       "    <tr>\n",
       "      <th>3</th>\n",
       "      <td>732113305376940032</td>\n",
       "      <td>en</td>\n",
       "      <td>2016-05-16T07:39:48.000Z</td>\n",
       "      <td>Twitter for Android</td>\n",
       "      <td>RT @iitian_kshitij: Actually they have become ...</td>\n",
       "      <td>0</td>\n",
       "      <td>0</td>\n",
       "      <td>0</td>\n",
       "      <td>0</td>\n",
       "    </tr>\n",
       "    <tr>\n",
       "      <th>4</th>\n",
       "      <td>732113305347612672</td>\n",
       "      <td>en</td>\n",
       "      <td>2016-05-16T07:39:48.000Z</td>\n",
       "      <td>Twitter for iPhone</td>\n",
       "      <td>@JaimesonPaul lock all windows and doors don't...</td>\n",
       "      <td>0</td>\n",
       "      <td>1</td>\n",
       "      <td>0</td>\n",
       "      <td>0</td>\n",
       "    </tr>\n",
       "  </tbody>\n",
       "</table>\n",
       "</div>"
      ],
      "text/plain": [
       "                   id lang                created_at               source  \\\n",
       "0  732113301182746624   en  2016-05-16T07:39:47.000Z     Tweetbot for iΟS   \n",
       "1  732113301145014272   en  2016-05-16T07:39:47.000Z  Twitter for Android   \n",
       "2  732113301149089794   en  2016-05-16T07:39:47.000Z     Twitter for iPad   \n",
       "3  732113305376940032   en  2016-05-16T07:39:48.000Z  Twitter for Android   \n",
       "4  732113305347612672   en  2016-05-16T07:39:48.000Z   Twitter for iPhone   \n",
       "\n",
       "                                                text  like_count  reply_count  \\\n",
       "0  RT @odinodin: I just made a tool for inspectin...           0            0   \n",
       "1              HAPPY BIRTHDAY JOSEPH 💓 @JosephMorgan           0            0   \n",
       "2  RT @zeecinema: Yeh inka dopahar ka program hai...           0            0   \n",
       "3  RT @iitian_kshitij: Actually they have become ...           0            0   \n",
       "4  @JaimesonPaul lock all windows and doors don't...           0            1   \n",
       "\n",
       "   quote_count  spam  \n",
       "0            0     0  \n",
       "1            0     0  \n",
       "2            0     0  \n",
       "3            0     0  \n",
       "4            0     0  "
      ]
     },
     "execution_count": 198,
     "metadata": {},
     "output_type": "execute_result"
    }
   ],
   "source": [
    "tweetDF = pd.read_csv('tweets.csv', index_col=[0])\n",
    "tweetDF['id'] = tweetDF['id'].astype(str)\n",
    "tweetDF['source'] = tweetDF['source'].astype(str)\n",
    "tweetDF['text'] = tweetDF['text'].astype(str)\n",
    "\n",
    "\n",
    "df['id'] = df['id'].astype(str)\n",
    "df['spam'] = df['spam'].astype(int)\n",
    "\n",
    "data = pd.merge(tweetDF,df, how='inner', on='id')\n",
    "data.head()"
   ]
  },
  {
   "cell_type": "markdown",
   "id": "48b123ea",
   "metadata": {},
   "source": [
    "# Preprocessing"
   ]
  },
  {
   "cell_type": "code",
   "execution_count": 199,
   "id": "5a59edde",
   "metadata": {},
   "outputs": [],
   "source": [
    "import spacy\n",
    "nlp = spacy.load('en_core_web_sm')\n",
    "stopwords = nlp.Defaults.stop_words"
   ]
  },
  {
   "cell_type": "code",
   "execution_count": 200,
   "id": "07799da6",
   "metadata": {},
   "outputs": [],
   "source": [
    "def clean_text(x):\n",
    "    doc = nlp(x.lower())\n",
    "    lemmas = [token.lemma_ for token in doc \n",
    "          if token.lemma_.isalnum() and token.lemma_ not in stopwords]\n",
    "    x = ' '.join(lemmas)\n",
    "    return x"
   ]
  },
  {
   "cell_type": "code",
   "execution_count": 201,
   "id": "015d0b99",
   "metadata": {},
   "outputs": [
    {
     "data": {
      "text/html": [
       "<div>\n",
       "<style scoped>\n",
       "    .dataframe tbody tr th:only-of-type {\n",
       "        vertical-align: middle;\n",
       "    }\n",
       "\n",
       "    .dataframe tbody tr th {\n",
       "        vertical-align: top;\n",
       "    }\n",
       "\n",
       "    .dataframe thead th {\n",
       "        text-align: right;\n",
       "    }\n",
       "</style>\n",
       "<table border=\"1\" class=\"dataframe\">\n",
       "  <thead>\n",
       "    <tr style=\"text-align: right;\">\n",
       "      <th></th>\n",
       "      <th>id</th>\n",
       "      <th>lang</th>\n",
       "      <th>created_at</th>\n",
       "      <th>source</th>\n",
       "      <th>text</th>\n",
       "      <th>like_count</th>\n",
       "      <th>reply_count</th>\n",
       "      <th>quote_count</th>\n",
       "      <th>spam</th>\n",
       "    </tr>\n",
       "  </thead>\n",
       "  <tbody>\n",
       "    <tr>\n",
       "      <th>0</th>\n",
       "      <td>732113301182746624</td>\n",
       "      <td>en</td>\n",
       "      <td>2016-05-16T07:39:47.000Z</td>\n",
       "      <td>Tweetbot for iΟS</td>\n",
       "      <td>rt I tool inspect datum reagent app tree struc...</td>\n",
       "      <td>0</td>\n",
       "      <td>0</td>\n",
       "      <td>0</td>\n",
       "      <td>0</td>\n",
       "    </tr>\n",
       "    <tr>\n",
       "      <th>1</th>\n",
       "      <td>732113301145014272</td>\n",
       "      <td>en</td>\n",
       "      <td>2016-05-16T07:39:47.000Z</td>\n",
       "      <td>Twitter for Android</td>\n",
       "      <td>happy birthday joseph</td>\n",
       "      <td>0</td>\n",
       "      <td>0</td>\n",
       "      <td>0</td>\n",
       "      <td>0</td>\n",
       "    </tr>\n",
       "    <tr>\n",
       "      <th>2</th>\n",
       "      <td>732113301149089794</td>\n",
       "      <td>en</td>\n",
       "      <td>2016-05-16T07:39:47.000Z</td>\n",
       "      <td>Twitter for iPad</td>\n",
       "      <td>rt yeh inka dopahar ka program hai watch phir ...</td>\n",
       "      <td>0</td>\n",
       "      <td>0</td>\n",
       "      <td>0</td>\n",
       "      <td>0</td>\n",
       "    </tr>\n",
       "    <tr>\n",
       "      <th>3</th>\n",
       "      <td>732113305376940032</td>\n",
       "      <td>en</td>\n",
       "      <td>2016-05-16T07:39:48.000Z</td>\n",
       "      <td>Twitter for Android</td>\n",
       "      <td>rt actually middle man</td>\n",
       "      <td>0</td>\n",
       "      <td>0</td>\n",
       "      <td>0</td>\n",
       "      <td>0</td>\n",
       "    </tr>\n",
       "    <tr>\n",
       "      <th>4</th>\n",
       "      <td>732113305347612672</td>\n",
       "      <td>en</td>\n",
       "      <td>2016-05-16T07:39:48.000Z</td>\n",
       "      <td>Twitter for iPhone</td>\n",
       "      <td>lock window door investigate odd noise sure ce...</td>\n",
       "      <td>0</td>\n",
       "      <td>1</td>\n",
       "      <td>0</td>\n",
       "      <td>0</td>\n",
       "    </tr>\n",
       "  </tbody>\n",
       "</table>\n",
       "</div>"
      ],
      "text/plain": [
       "                   id lang                created_at               source  \\\n",
       "0  732113301182746624   en  2016-05-16T07:39:47.000Z     Tweetbot for iΟS   \n",
       "1  732113301145014272   en  2016-05-16T07:39:47.000Z  Twitter for Android   \n",
       "2  732113301149089794   en  2016-05-16T07:39:47.000Z     Twitter for iPad   \n",
       "3  732113305376940032   en  2016-05-16T07:39:48.000Z  Twitter for Android   \n",
       "4  732113305347612672   en  2016-05-16T07:39:48.000Z   Twitter for iPhone   \n",
       "\n",
       "                                                text  like_count  reply_count  \\\n",
       "0  rt I tool inspect datum reagent app tree struc...           0            0   \n",
       "1                              happy birthday joseph           0            0   \n",
       "2  rt yeh inka dopahar ka program hai watch phir ...           0            0   \n",
       "3                             rt actually middle man           0            0   \n",
       "4  lock window door investigate odd noise sure ce...           0            1   \n",
       "\n",
       "   quote_count  spam  \n",
       "0            0     0  \n",
       "1            0     0  \n",
       "2            0     0  \n",
       "3            0     0  \n",
       "4            0     0  "
      ]
     },
     "execution_count": 201,
     "metadata": {},
     "output_type": "execute_result"
    }
   ],
   "source": [
    "data['text'] = data['text'].apply(clean_text)\n",
    "data.head()"
   ]
  },
  {
   "cell_type": "markdown",
   "id": "788740e8",
   "metadata": {},
   "source": [
    "# Visualization"
   ]
  },
  {
   "cell_type": "code",
   "execution_count": 202,
   "id": "563b05a2",
   "metadata": {
    "scrolled": true
   },
   "outputs": [
    {
     "name": "stdout",
     "output_type": "stream",
     "text": [
      "Spam Count: 3345\n",
      "Good Count: 43390\n",
      "Spam to Good Ratio: 0.07157376698405905\n"
     ]
    },
    {
     "data": {
      "image/png": "[encoded data removed]",
      "text/plain": [
       "<Figure size 432x288 with 1 Axes>"
      ]
     },
     "metadata": {
      "needs_background": "light"
     },
     "output_type": "display_data"
    }
   ],
   "source": [
    "spamCount = data[data['spam']==1].shape[0]\n",
    "goodCount = data[data['spam']==0].shape[0]\n",
    "\n",
    "sns.countplot(data=data, x='spam')\n",
    "\n",
    "print('Spam Count:', spamCount)\n",
    "print('Good Count:', goodCount)\n",
    "print('Spam to Good Ratio:', spamCount/(spamCount+goodCount))"
   ]
  },
  {
   "cell_type": "code",
   "execution_count": 203,
   "id": "b6f870ed",
   "metadata": {},
   "outputs": [],
   "source": [
    "from sklearn.model_selection import train_test_split, cross_val_score\n",
    "\n",
    "from sklearn.feature_extraction.text import CountVectorizer, TfidfVectorizer\n",
    "\n",
    "from sklearn.linear_model import LogisticRegression\n",
    "from sklearn.neighbors import KNeighborsClassifier\n",
    "from sklearn.ensemble import RandomForestClassifier\n",
    "from sklearn.naive_bayes import MultinomialNB\n",
    "\n",
    "from sklearn.metrics import accuracy_score, balanced_accuracy_score, classification_report, confusion_matrix, precision_recall_curve, PrecisionRecallDisplay"
   ]
  },
  {
   "cell_type": "code",
   "execution_count": 204,
   "id": "c594c96a",
   "metadata": {},
   "outputs": [],
   "source": [
    "np.random.seed(0)"
   ]
  },
  {
   "cell_type": "markdown",
   "id": "b2dd0824",
   "metadata": {},
   "source": [
    "# Predicting SPAM through Tweet Text"
   ]
  },
  {
   "cell_type": "markdown",
   "id": "544c2491",
   "metadata": {},
   "source": [
    "### Train Test Split"
   ]
  },
  {
   "cell_type": "code",
   "execution_count": 205,
   "id": "787819dd",
   "metadata": {},
   "outputs": [],
   "source": [
    "X_train, X_test, y_train, y_test = train_test_split(data['text'], data['spam'], test_size=1/3)"
   ]
  },
  {
   "cell_type": "markdown",
   "id": "80d84f90",
   "metadata": {},
   "source": [
    "### Vectorization"
   ]
  },
  {
   "cell_type": "code",
   "execution_count": 206,
   "id": "4ee74099",
   "metadata": {},
   "outputs": [],
   "source": [
    "vectorizer_names = ['Tfidf', 'Word Count 1-Gram', 'Word Count 2-Gram']\n",
    "vectorizers = [TfidfVectorizer(), CountVectorizer(ngram_range=(1,1)), CountVectorizer(ngram_range=(1,2))]\n",
    "vectorized_data = []\n",
    "vocabulary = []\n",
    "\n",
    "for vectorizer in vectorizers:\n",
    "    vectorizer_x_train = vectorizer.fit_transform(X_train)\n",
    "    vectorizer_x_test = vectorizer.transform(X_test)\n",
    "    vectorized_data.append((vectorizer_x_train, vectorizer_x_test))\n",
    "    vocabulary.append(sorted(vectorizer.vocabulary_.items(), key=lambda x: x[1], reverse=True))"
   ]
  },
  {
   "cell_type": "code",
   "execution_count": 207,
   "id": "3cb7ab04",
   "metadata": {},
   "outputs": [
    {
     "name": "stdout",
     "output_type": "stream",
     "text": [
      "Tfidf vocab:\n",
      "------------------------------------\n",
      "ｙｏｕ : 28664\n",
      "ｗａｎｔ : 28663\n",
      "ｔｈｅｙ : 28662\n",
      "ｓｔｒｅａｍ : 28661\n",
      "ｒｅｔｗｅｅｔ : 28660\n",
      "\n",
      "\n",
      "Word Count 1-Gram vocab:\n",
      "------------------------------------\n",
      "ｙｏｕ : 28664\n",
      "ｗａｎｔ : 28663\n",
      "ｔｈｅｙ : 28662\n",
      "ｓｔｒｅａｍ : 28661\n",
      "ｒｅｔｗｅｅｔ : 28660\n",
      "\n",
      "\n",
      "Word Count 2-Gram vocab:\n",
      "------------------------------------\n",
      "ｙｏｕ ｗａｎｔ : 144606\n",
      "ｙｏｕ ｆｏｌｌｏｗｂａｃｋ : 144605\n",
      "ｙｏｕ : 144604\n",
      "ｗａｎｔ ｆｏｌｌｏｗｅｒｓ : 144603\n",
      "ｗａｎｔ : 144602\n",
      "\n",
      "\n"
     ]
    }
   ],
   "source": [
    "for cnt, vocab in enumerate(vocabulary):\n",
    "    print(vectorizer_names[cnt], 'vocab:')\n",
    "    print('------------------------------------')\n",
    "    for word, count in vocab[:5]:\n",
    "        print(word,':', count)\n",
    "    print('\\n')\n",
    "    "
   ]
  },
  {
   "cell_type": "code",
   "execution_count": 208,
   "id": "1c0e6775",
   "metadata": {
    "scrolled": true
   },
   "outputs": [
    {
     "name": "stdout",
     "output_type": "stream",
     "text": [
      "Predicting SPAM using Logistic Regression\n",
      "**********************************************************************************\n",
      "Utilizing Tfidf vectorized data:\n",
      "------------------------------------------------------\n",
      "\n",
      "Accuracy: 0.9668784902753707\n",
      "Balanced Accuracy: 0.7701271529750434\n",
      "Confusion Matrix:\n",
      " [[14482    25]\n",
      " [  491   581]]\n",
      "\n",
      "\n",
      "              precision    recall  f1-score   support\n",
      "\n",
      "           0       0.97      1.00      0.98     14507\n",
      "           1       0.96      0.54      0.69      1072\n",
      "\n",
      "    accuracy                           0.97     15579\n",
      "   macro avg       0.96      0.77      0.84     15579\n",
      "weighted avg       0.97      0.97      0.96     15579\n",
      "\n"
     ]
    },
    {
     "data": {
      "image/png": "[encoded data removed]",
      "text/plain": [
       "<Figure size 432x288 with 1 Axes>"
      ]
     },
     "metadata": {
      "needs_background": "light"
     },
     "output_type": "display_data"
    },
    {
     "name": "stdout",
     "output_type": "stream",
     "text": [
      "Utilizing Word Count 1-Gram vectorized data:\n",
      "------------------------------------------------------\n",
      "\n",
      "Accuracy: 0.9711149624494512\n",
      "Balanced Accuracy: 0.8117095298306839\n",
      "Confusion Matrix:\n",
      " [[14457    50]\n",
      " [  400   672]]\n",
      "\n",
      "\n",
      "              precision    recall  f1-score   support\n",
      "\n",
      "           0       0.97      1.00      0.98     14507\n",
      "           1       0.93      0.63      0.75      1072\n",
      "\n",
      "    accuracy                           0.97     15579\n",
      "   macro avg       0.95      0.81      0.87     15579\n",
      "weighted avg       0.97      0.97      0.97     15579\n",
      "\n"
     ]
    },
    {
     "data": {
      "image/png": "[encoded data removed]",
      "text/plain": [
       "<Figure size 432x288 with 1 Axes>"
      ]
     },
     "metadata": {
      "needs_background": "light"
     },
     "output_type": "display_data"
    },
    {
     "name": "stdout",
     "output_type": "stream",
     "text": [
      "Utilizing Word Count 2-Gram vectorized data:\n",
      "------------------------------------------------------\n",
      "\n",
      "Accuracy: 0.9745169779831825\n",
      "Balanced Accuracy: 0.8269267396902575\n",
      "Confusion Matrix:\n",
      " [[14479    28]\n",
      " [  369   703]]\n",
      "\n",
      "\n",
      "              precision    recall  f1-score   support\n",
      "\n",
      "           0       0.98      1.00      0.99     14507\n",
      "           1       0.96      0.66      0.78      1072\n",
      "\n",
      "    accuracy                           0.97     15579\n",
      "   macro avg       0.97      0.83      0.88     15579\n",
      "weighted avg       0.97      0.97      0.97     15579\n",
      "\n"
     ]
    },
    {
     "data": {
      "image/png": "[encoded data removed]",
      "text/plain": [
       "<Figure size 432x288 with 1 Axes>"
      ]
     },
     "metadata": {
      "needs_background": "light"
     },
     "output_type": "display_data"
    },
    {
     "name": "stdout",
     "output_type": "stream",
     "text": [
      "Predicting SPAM using K-Nearest Neighbor\n",
      "**********************************************************************************\n",
      "Utilizing Tfidf vectorized data:\n",
      "------------------------------------------------------\n",
      "\n",
      "Accuracy: 0.9664291674690288\n",
      "Balanced Accuracy: 0.7867320099715114\n",
      "Confusion Matrix:\n",
      " [[14436    71]\n",
      " [  452   620]]\n",
      "\n",
      "\n",
      "              precision    recall  f1-score   support\n",
      "\n",
      "           0       0.97      1.00      0.98     14507\n",
      "           1       0.90      0.58      0.70      1072\n",
      "\n",
      "    accuracy                           0.97     15579\n",
      "   macro avg       0.93      0.79      0.84     15579\n",
      "weighted avg       0.96      0.97      0.96     15579\n",
      "\n"
     ]
    },
    {
     "data": {
      "image/png": "[encoded data removed]",
      "text/plain": [
       "<Figure size 432x288 with 1 Axes>"
      ]
     },
     "metadata": {
      "needs_background": "light"
     },
     "output_type": "display_data"
    },
    {
     "name": "stdout",
     "output_type": "stream",
     "text": [
      "Utilizing Word Count 1-Gram vectorized data:\n",
      "------------------------------------------------------\n",
      "\n",
      "Accuracy: 0.9654663328840105\n",
      "Balanced Accuracy: 0.7944221021966751\n",
      "Confusion Matrix:\n",
      " [[14402   105]\n",
      " [  433   639]]\n",
      "\n",
      "\n",
      "              precision    recall  f1-score   support\n",
      "\n",
      "           0       0.97      0.99      0.98     14507\n",
      "           1       0.86      0.60      0.70      1072\n",
      "\n",
      "    accuracy                           0.97     15579\n",
      "   macro avg       0.91      0.79      0.84     15579\n",
      "weighted avg       0.96      0.97      0.96     15579\n",
      "\n"
     ]
    },
    {
     "data": {
      "image/png": "[encoded data removed]",
      "text/plain": [
       "<Figure size 432x288 with 1 Axes>"
      ]
     },
     "metadata": {
      "needs_background": "light"
     },
     "output_type": "display_data"
    },
    {
     "name": "stdout",
     "output_type": "stream",
     "text": [
      "Utilizing Word Count 2-Gram vectorized data:\n",
      "------------------------------------------------------\n",
      "\n",
      "Accuracy: 0.9628987739906284\n",
      "Balanced Accuracy: 0.789155891288714\n",
      "Confusion Matrix:\n",
      " [[14371   136]\n",
      " [  442   630]]\n",
      "\n",
      "\n",
      "              precision    recall  f1-score   support\n",
      "\n",
      "           0       0.97      0.99      0.98     14507\n",
      "           1       0.82      0.59      0.69      1072\n",
      "\n",
      "    accuracy                           0.96     15579\n",
      "   macro avg       0.90      0.79      0.83     15579\n",
      "weighted avg       0.96      0.96      0.96     15579\n",
      "\n"
     ]
    },
    {
     "data": {
      "image/png": "[encoded data removed]",
      "text/plain": [
       "<Figure size 432x288 with 1 Axes>"
      ]
     },
     "metadata": {
      "needs_background": "light"
     },
     "output_type": "display_data"
    },
    {
     "name": "stdout",
     "output_type": "stream",
     "text": [
      "Predicting SPAM using Random Forest\n",
      "**********************************************************************************\n",
      "Utilizing Tfidf vectorized data:\n",
      "------------------------------------------------------\n",
      "\n",
      "Accuracy: 0.9749021118171898\n",
      "Balanced Accuracy: 0.8305891507342312\n",
      "Confusion Matrix:\n",
      " [[14477    30]\n",
      " [  361   711]]\n",
      "\n",
      "\n",
      "              precision    recall  f1-score   support\n",
      "\n",
      "           0       0.98      1.00      0.99     14507\n",
      "           1       0.96      0.66      0.78      1072\n",
      "\n",
      "    accuracy                           0.97     15579\n",
      "   macro avg       0.97      0.83      0.89     15579\n",
      "weighted avg       0.97      0.97      0.97     15579\n",
      "\n"
     ]
    },
    {
     "data": {
      "image/png": "[encoded data removed]",
      "text/plain": [
       "<Figure size 432x288 with 1 Axes>"
      ]
     },
     "metadata": {
      "needs_background": "light"
     },
     "output_type": "display_data"
    },
    {
     "name": "stdout",
     "output_type": "stream",
     "text": [
      "Utilizing Word Count 1-Gram vectorized data:\n",
      "------------------------------------------------------\n",
      "\n",
      "Accuracy: 0.9731690095641569\n",
      "Balanced Accuracy: 0.8382976013123875\n",
      "Confusion Matrix:\n",
      " [[14430    77]\n",
      " [  341   731]]\n",
      "\n",
      "\n",
      "              precision    recall  f1-score   support\n",
      "\n",
      "           0       0.98      0.99      0.99     14507\n",
      "           1       0.90      0.68      0.78      1072\n",
      "\n",
      "    accuracy                           0.97     15579\n",
      "   macro avg       0.94      0.84      0.88     15579\n",
      "weighted avg       0.97      0.97      0.97     15579\n",
      "\n"
     ]
    },
    {
     "data": {
      "image/png": "[encoded data removed]",
      "text/plain": [
       "<Figure size 432x288 with 1 Axes>"
      ]
     },
     "metadata": {
      "needs_background": "light"
     },
     "output_type": "display_data"
    },
    {
     "name": "stdout",
     "output_type": "stream",
     "text": [
      "Utilizing Word Count 2-Gram vectorized data:\n",
      "------------------------------------------------------\n",
      "\n",
      "Accuracy: 0.973297387508826\n",
      "Balanced Accuracy: 0.8305914013204125\n",
      "Confusion Matrix:\n",
      " [[14450    57]\n",
      " [  359   713]]\n",
      "\n",
      "\n",
      "              precision    recall  f1-score   support\n",
      "\n",
      "           0       0.98      1.00      0.99     14507\n",
      "           1       0.93      0.67      0.77      1072\n",
      "\n",
      "    accuracy                           0.97     15579\n",
      "   macro avg       0.95      0.83      0.88     15579\n",
      "weighted avg       0.97      0.97      0.97     15579\n",
      "\n"
     ]
    },
    {
     "data": {
      "image/png": "[encoded data removed]",
      "text/plain": [
       "<Figure size 432x288 with 1 Axes>"
      ]
     },
     "metadata": {
      "needs_background": "light"
     },
     "output_type": "display_data"
    },
    {
     "name": "stdout",
     "output_type": "stream",
     "text": [
      "Predicting SPAM using Naive Bayes\n",
      "**********************************************************************************\n",
      "Utilizing Tfidf vectorized data:\n",
      "------------------------------------------------------\n",
      "\n",
      "Accuracy: 0.9634764747416393\n",
      "Balanced Accuracy: 0.7354721125365109\n",
      "Confusion Matrix:\n",
      " [[14505     2]\n",
      " [  567   505]]\n",
      "\n",
      "\n",
      "              precision    recall  f1-score   support\n",
      "\n",
      "           0       0.96      1.00      0.98     14507\n",
      "           1       1.00      0.47      0.64      1072\n",
      "\n",
      "    accuracy                           0.96     15579\n",
      "   macro avg       0.98      0.74      0.81     15579\n",
      "weighted avg       0.96      0.96      0.96     15579\n",
      "\n"
     ]
    },
    {
     "data": {
      "image/png": "[encoded data removed]",
      "text/plain": [
       "<Figure size 432x288 with 1 Axes>"
      ]
     },
     "metadata": {
      "needs_background": "light"
     },
     "output_type": "display_data"
    },
    {
     "name": "stdout",
     "output_type": "stream",
     "text": [
      "Utilizing Word Count 1-Gram vectorized data:\n",
      "------------------------------------------------------\n",
      "\n",
      "Accuracy: 0.9689325373900763\n",
      "Balanced Accuracy: 0.7936915619222424\n",
      "Confusion Matrix:\n",
      " [[14462    45]\n",
      " [  439   633]]\n",
      "\n",
      "\n",
      "              precision    recall  f1-score   support\n",
      "\n",
      "           0       0.97      1.00      0.98     14507\n",
      "           1       0.93      0.59      0.72      1072\n",
      "\n",
      "    accuracy                           0.97     15579\n",
      "   macro avg       0.95      0.79      0.85     15579\n",
      "weighted avg       0.97      0.97      0.97     15579\n",
      "\n"
     ]
    },
    {
     "data": {
      "image/png": "[encoded data removed]",
      "text/plain": [
       "<Figure size 432x288 with 1 Axes>"
      ]
     },
     "metadata": {
      "needs_background": "light"
     },
     "output_type": "display_data"
    },
    {
     "name": "stdout",
     "output_type": "stream",
     "text": [
      "Utilizing Word Count 2-Gram vectorized data:\n",
      "------------------------------------------------------\n",
      "\n",
      "Accuracy: 0.9727196867578151\n",
      "Balanced Accuracy: 0.8130031346164333\n",
      "Confusion Matrix:\n",
      " [[14481    26]\n",
      " [  399   673]]\n",
      "\n",
      "\n",
      "              precision    recall  f1-score   support\n",
      "\n",
      "           0       0.97      1.00      0.99     14507\n",
      "           1       0.96      0.63      0.76      1072\n",
      "\n",
      "    accuracy                           0.97     15579\n",
      "   macro avg       0.97      0.81      0.87     15579\n",
      "weighted avg       0.97      0.97      0.97     15579\n",
      "\n"
     ]
    },
    {
     "data": {
      "image/png": "[encoded data removed]",
      "text/plain": [
       "<Figure size 432x288 with 1 Axes>"
      ]
     },
     "metadata": {
      "needs_background": "light"
     },
     "output_type": "display_data"
    }
   ],
   "source": [
    "model_names = ['Logistic Regression', \n",
    "               'K-Nearest Neighbor', \n",
    "               'Random Forest',\n",
    "               'Naive Bayes']\n",
    "\n",
    "models = [LogisticRegression(), \n",
    "          KNeighborsClassifier(),\n",
    "          RandomForestClassifier(), \n",
    "          MultinomialNB()]\n",
    "\n",
    "for cnt, model in enumerate(models):\n",
    "    \n",
    "    print('Predicting SPAM using {}'.format(model_names[cnt]))\n",
    "    print('**********************************************************************************')\n",
    "    i=0\n",
    "    \n",
    "    for X_train, X_test in vectorized_data:\n",
    "        \n",
    "        print('Utilizing {} vectorized data:'.format(vectorizer_names[i]))\n",
    "        print('------------------------------------------------------\\n')\n",
    "        \n",
    "        model.fit(X_train, y_train)\n",
    "\n",
    "        y_pred = model.predict(X_test)\n",
    "    \n",
    "        print('Accuracy:', accuracy_score(y_test, y_pred))\n",
    "        print('Balanced Accuracy:', balanced_accuracy_score(y_test, y_pred))\n",
    "        print('Confusion Matrix:\\n', confusion_matrix(y_test, y_pred))\n",
    "        print('\\n')\n",
    "        print(classification_report(y_test, y_pred))\n",
    "        \n",
    "        y_probs = model.predict_proba(X_test)\n",
    "        precision, recall, _ = precision_recall_curve(y_test, y_probs[:, 1])\n",
    "        disp = PrecisionRecallDisplay(precision=precision, recall=recall)\n",
    "        disp.plot()\n",
    "        plt.show()\n",
    "        \n",
    "        i+=1\n",
    "    "
   ]
  },
  {
   "cell_type": "markdown",
   "id": "a3362c81",
   "metadata": {},
   "source": [
    "# Predicting SPAM through Tweet Source"
   ]
  },
  {
   "cell_type": "markdown",
   "id": "dbf3b93d",
   "metadata": {},
   "source": [
    "### Train Test Split"
   ]
  },
  {
   "cell_type": "code",
   "execution_count": 209,
   "id": "55f1e9cb",
   "metadata": {},
   "outputs": [],
   "source": [
    "X_train, X_test, y_train, y_test = train_test_split(data['source'], data['spam'], test_size=1/3)"
   ]
  },
  {
   "cell_type": "markdown",
   "id": "df02171b",
   "metadata": {},
   "source": [
    "### Vectorization"
   ]
  },
  {
   "cell_type": "code",
   "execution_count": 210,
   "id": "48f78cca",
   "metadata": {},
   "outputs": [],
   "source": [
    "vectorizer_names = ['Tfidf', 'Word Count 1-Gram', 'Word Count 2-Gram']\n",
    "vectorizers = [TfidfVectorizer(), CountVectorizer(ngram_range=(1,1)), CountVectorizer(ngram_range=(1,2))]\n",
    "vectorized_data = []\n",
    "vocabulary = []\n",
    "\n",
    "for vectorizer in vectorizers:\n",
    "    vectorizer_x_train = vectorizer.fit_transform(X_train)\n",
    "    vectorizer_x_test = vectorizer.transform(X_test)\n",
    "    vectorized_data.append((vectorizer_x_train, vectorizer_x_test))\n",
    "    vocabulary.append(sorted(vectorizer.vocabulary_.items(), key=lambda x: x[1], reverse=True))"
   ]
  },
  {
   "cell_type": "code",
   "execution_count": 211,
   "id": "736dfe64",
   "metadata": {},
   "outputs": [
    {
     "name": "stdout",
     "output_type": "stream",
     "text": [
      "Predicting SPAM using Logistic Regression\n",
      "**********************************************************************************\n",
      "Utilizing Tfidf vectorized data:\n",
      "------------------------------------------------------\n",
      "\n",
      "Accuracy: 0.9559663649784967\n",
      "Balanced Accuracy: 0.7066861901065556\n",
      "Confusion Matrix:\n",
      " [[14417    13]\n",
      " [  673   476]]\n",
      "\n",
      "\n",
      "              precision    recall  f1-score   support\n",
      "\n",
      "           0       0.96      1.00      0.98     14430\n",
      "           1       0.97      0.41      0.58      1149\n",
      "\n",
      "    accuracy                           0.96     15579\n",
      "   macro avg       0.96      0.71      0.78     15579\n",
      "weighted avg       0.96      0.96      0.95     15579\n",
      "\n"
     ]
    },
    {
     "data": {
      "image/png": "[encoded data removed]",
      "text/plain": [
       "<Figure size 432x288 with 1 Axes>"
      ]
     },
     "metadata": {
      "needs_background": "light"
     },
     "output_type": "display_data"
    },
    {
     "name": "stdout",
     "output_type": "stream",
     "text": [
      "Utilizing Word Count 1-Gram vectorized data:\n",
      "------------------------------------------------------\n",
      "\n",
      "Accuracy: 0.9566082547018422\n",
      "Balanced Accuracy: 0.7118388221521381\n",
      "Confusion Matrix:\n",
      " [[14415    15]\n",
      " [  661   488]]\n",
      "\n",
      "\n",
      "              precision    recall  f1-score   support\n",
      "\n",
      "           0       0.96      1.00      0.98     14430\n",
      "           1       0.97      0.42      0.59      1149\n",
      "\n",
      "    accuracy                           0.96     15579\n",
      "   macro avg       0.96      0.71      0.78     15579\n",
      "weighted avg       0.96      0.96      0.95     15579\n",
      "\n"
     ]
    },
    {
     "name": "stderr",
     "output_type": "stream",
     "text": [
      "C:\\Program Files\\anaconda3\\lib\\site-packages\\sklearn\\linear_model\\_logistic.py:814: ConvergenceWarning: lbfgs failed to converge (status=1):\n",
      "STOP: TOTAL NO. of ITERATIONS REACHED LIMIT.\n",
      "\n",
      "Increase the number of iterations (max_iter) or scale the data as shown in:\n",
      "    https://scikit-learn.org/stable/modules/preprocessing.html\n",
      "Please also refer to the documentation for alternative solver options:\n",
      "    https://scikit-learn.org/stable/modules/linear_model.html#logistic-regression\n",
      "  n_iter_i = _check_optimize_result(\n"
     ]
    },
    {
     "data": {
      "image/png": "[encoded data removed]",
      "text/plain": [
       "<Figure size 432x288 with 1 Axes>"
      ]
     },
     "metadata": {
      "needs_background": "light"
     },
     "output_type": "display_data"
    },
    {
     "name": "stderr",
     "output_type": "stream",
     "text": [
      "C:\\Program Files\\anaconda3\\lib\\site-packages\\sklearn\\linear_model\\_logistic.py:814: ConvergenceWarning: lbfgs failed to converge (status=1):\n",
      "STOP: TOTAL NO. of ITERATIONS REACHED LIMIT.\n",
      "\n",
      "Increase the number of iterations (max_iter) or scale the data as shown in:\n",
      "    https://scikit-learn.org/stable/modules/preprocessing.html\n",
      "Please also refer to the documentation for alternative solver options:\n",
      "    https://scikit-learn.org/stable/modules/linear_model.html#logistic-regression\n",
      "  n_iter_i = _check_optimize_result(\n"
     ]
    },
    {
     "name": "stdout",
     "output_type": "stream",
     "text": [
      "Utilizing Word Count 2-Gram vectorized data:\n",
      "------------------------------------------------------\n",
      "\n",
      "Accuracy: 0.9564156877848385\n",
      "Balanced Accuracy: 0.7113343610732645\n",
      "Confusion Matrix:\n",
      " [[14413    17]\n",
      " [  662   487]]\n",
      "\n",
      "\n",
      "              precision    recall  f1-score   support\n",
      "\n",
      "           0       0.96      1.00      0.98     14430\n",
      "           1       0.97      0.42      0.59      1149\n",
      "\n",
      "    accuracy                           0.96     15579\n",
      "   macro avg       0.96      0.71      0.78     15579\n",
      "weighted avg       0.96      0.96      0.95     15579\n",
      "\n"
     ]
    },
    {
     "data": {
      "image/png": "[encoded data removed]",
      "text/plain": [
       "<Figure size 432x288 with 1 Axes>"
      ]
     },
     "metadata": {
      "needs_background": "light"
     },
     "output_type": "display_data"
    },
    {
     "name": "stdout",
     "output_type": "stream",
     "text": [
      "Predicting SPAM using K-Nearest Neighbor\n",
      "**********************************************************************************\n",
      "Utilizing Tfidf vectorized data:\n",
      "------------------------------------------------------\n",
      "\n",
      "Accuracy: 0.9554528531998203\n",
      "Balanced Accuracy: 0.713217676403055\n",
      "Confusion Matrix:\n",
      " [[14392    38]\n",
      " [  656   493]]\n",
      "\n",
      "\n",
      "              precision    recall  f1-score   support\n",
      "\n",
      "           0       0.96      1.00      0.98     14430\n",
      "           1       0.93      0.43      0.59      1149\n",
      "\n",
      "    accuracy                           0.96     15579\n",
      "   macro avg       0.94      0.71      0.78     15579\n",
      "weighted avg       0.95      0.96      0.95     15579\n",
      "\n"
     ]
    },
    {
     "data": {
      "image/png": "[encoded data removed]",
      "text/plain": [
       "<Figure size 432x288 with 1 Axes>"
      ]
     },
     "metadata": {
      "needs_background": "light"
     },
     "output_type": "display_data"
    },
    {
     "name": "stdout",
     "output_type": "stream",
     "text": [
      "Utilizing Word Count 1-Gram vectorized data:\n",
      "------------------------------------------------------\n",
      "\n",
      "Accuracy: 0.9534629950574491\n",
      "Balanced Accuracy: 0.7197532338524506\n",
      "Confusion Matrix:\n",
      " [[14342    88]\n",
      " [  637   512]]\n",
      "\n",
      "\n",
      "              precision    recall  f1-score   support\n",
      "\n",
      "           0       0.96      0.99      0.98     14430\n",
      "           1       0.85      0.45      0.59      1149\n",
      "\n",
      "    accuracy                           0.95     15579\n",
      "   macro avg       0.91      0.72      0.78     15579\n",
      "weighted avg       0.95      0.95      0.95     15579\n",
      "\n"
     ]
    },
    {
     "data": {
      "image/png": "[encoded data removed]",
      "text/plain": [
       "<Figure size 432x288 with 1 Axes>"
      ]
     },
     "metadata": {
      "needs_background": "light"
     },
     "output_type": "display_data"
    },
    {
     "name": "stdout",
     "output_type": "stream",
     "text": [
      "Utilizing Word Count 2-Gram vectorized data:\n",
      "------------------------------------------------------\n",
      "\n",
      "Accuracy: 0.9553886642274857\n",
      "Balanced Accuracy: 0.7151855812430225\n",
      "Confusion Matrix:\n",
      " [[14386    44]\n",
      " [  651   498]]\n",
      "\n",
      "\n",
      "              precision    recall  f1-score   support\n",
      "\n",
      "           0       0.96      1.00      0.98     14430\n",
      "           1       0.92      0.43      0.59      1149\n",
      "\n",
      "    accuracy                           0.96     15579\n",
      "   macro avg       0.94      0.72      0.78     15579\n",
      "weighted avg       0.95      0.96      0.95     15579\n",
      "\n"
     ]
    },
    {
     "data": {
      "image/png": "[encoded data removed]",
      "text/plain": [
       "<Figure size 432x288 with 1 Axes>"
      ]
     },
     "metadata": {
      "needs_background": "light"
     },
     "output_type": "display_data"
    },
    {
     "name": "stdout",
     "output_type": "stream",
     "text": [
      "Predicting SPAM using Random Forest\n",
      "**********************************************************************************\n",
      "Utilizing Tfidf vectorized data:\n",
      "------------------------------------------------------\n",
      "\n",
      "Accuracy: 0.9570575775081841\n",
      "Balanced Accuracy: 0.720492102868082\n",
      "Confusion Matrix:\n",
      " [[14401    29]\n",
      " [  640   509]]\n",
      "\n",
      "\n",
      "              precision    recall  f1-score   support\n",
      "\n",
      "           0       0.96      1.00      0.98     14430\n",
      "           1       0.95      0.44      0.60      1149\n",
      "\n",
      "    accuracy                           0.96     15579\n",
      "   macro avg       0.95      0.72      0.79     15579\n",
      "weighted avg       0.96      0.96      0.95     15579\n",
      "\n"
     ]
    },
    {
     "data": {
      "image/png": "[encoded data removed]",
      "text/plain": [
       "<Figure size 432x288 with 1 Axes>"
      ]
     },
     "metadata": {
      "needs_background": "light"
     },
     "output_type": "display_data"
    },
    {
     "name": "stdout",
     "output_type": "stream",
     "text": [
      "Utilizing Word Count 1-Gram vectorized data:\n",
      "------------------------------------------------------\n",
      "\n",
      "Accuracy: 0.9570575775081841\n",
      "Balanced Accuracy: 0.7208926138430055\n",
      "Confusion Matrix:\n",
      " [[14400    30]\n",
      " [  639   510]]\n",
      "\n",
      "\n",
      "              precision    recall  f1-score   support\n",
      "\n",
      "           0       0.96      1.00      0.98     14430\n",
      "           1       0.94      0.44      0.60      1149\n",
      "\n",
      "    accuracy                           0.96     15579\n",
      "   macro avg       0.95      0.72      0.79     15579\n",
      "weighted avg       0.96      0.96      0.95     15579\n",
      "\n"
     ]
    },
    {
     "data": {
      "image/png": "[encoded data removed]",
      "text/plain": [
       "<Figure size 432x288 with 1 Axes>"
      ]
     },
     "metadata": {
      "needs_background": "light"
     },
     "output_type": "display_data"
    },
    {
     "name": "stdout",
     "output_type": "stream",
     "text": [
      "Utilizing Word Count 2-Gram vectorized data:\n",
      "------------------------------------------------------\n",
      "\n",
      "Accuracy: 0.9571859554528532\n",
      "Balanced Accuracy: 0.7217629358621526\n",
      "Confusion Matrix:\n",
      " [[14400    30]\n",
      " [  637   512]]\n",
      "\n",
      "\n",
      "              precision    recall  f1-score   support\n",
      "\n",
      "           0       0.96      1.00      0.98     14430\n",
      "           1       0.94      0.45      0.61      1149\n",
      "\n",
      "    accuracy                           0.96     15579\n",
      "   macro avg       0.95      0.72      0.79     15579\n",
      "weighted avg       0.96      0.96      0.95     15579\n",
      "\n"
     ]
    },
    {
     "data": {
      "image/png": "[encoded data removed]",
      "text/plain": [
       "<Figure size 432x288 with 1 Axes>"
      ]
     },
     "metadata": {
      "needs_background": "light"
     },
     "output_type": "display_data"
    },
    {
     "name": "stdout",
     "output_type": "stream",
     "text": [
      "Predicting SPAM using Naive Bayes\n",
      "**********************************************************************************\n",
      "Utilizing Tfidf vectorized data:\n",
      "------------------------------------------------------\n",
      "\n",
      "Accuracy: 0.9531420501957764\n",
      "Balanced Accuracy: 0.7155748739299653\n",
      "Confusion Matrix:\n",
      " [[14347    83]\n",
      " [  647   502]]\n",
      "\n",
      "\n",
      "              precision    recall  f1-score   support\n",
      "\n",
      "           0       0.96      0.99      0.98     14430\n",
      "           1       0.86      0.44      0.58      1149\n",
      "\n",
      "    accuracy                           0.95     15579\n",
      "   macro avg       0.91      0.72      0.78     15579\n",
      "weighted avg       0.95      0.95      0.95     15579\n",
      "\n"
     ]
    },
    {
     "data": {
      "image/png": "[encoded data removed]",
      "text/plain": [
       "<Figure size 432x288 with 1 Axes>"
      ]
     },
     "metadata": {
      "needs_background": "light"
     },
     "output_type": "display_data"
    },
    {
     "name": "stdout",
     "output_type": "stream",
     "text": [
      "Utilizing Word Count 1-Gram vectorized data:\n",
      "------------------------------------------------------\n",
      "\n",
      "Accuracy: 0.9487772000770268\n",
      "Balanced Accuracy: 0.7200273581474625\n",
      "Confusion Matrix:\n",
      " [[14262   168]\n",
      " [  630   519]]\n",
      "\n",
      "\n",
      "              precision    recall  f1-score   support\n",
      "\n",
      "           0       0.96      0.99      0.97     14430\n",
      "           1       0.76      0.45      0.57      1149\n",
      "\n",
      "    accuracy                           0.95     15579\n",
      "   macro avg       0.86      0.72      0.77     15579\n",
      "weighted avg       0.94      0.95      0.94     15579\n",
      "\n"
     ]
    },
    {
     "data": {
      "image/png": "[encoded data removed]",
      "text/plain": [
       "<Figure size 432x288 with 1 Axes>"
      ]
     },
     "metadata": {
      "needs_background": "light"
     },
     "output_type": "display_data"
    },
    {
     "name": "stdout",
     "output_type": "stream",
     "text": [
      "Utilizing Word Count 2-Gram vectorized data:\n",
      "------------------------------------------------------\n",
      "\n",
      "Accuracy: 0.9446691058476154\n",
      "Balanced Accuracy: 0.7190112888546308\n",
      "Confusion Matrix:\n",
      " [[14195   235]\n",
      " [  627   522]]\n",
      "\n",
      "\n",
      "              precision    recall  f1-score   support\n",
      "\n",
      "           0       0.96      0.98      0.97     14430\n",
      "           1       0.69      0.45      0.55      1149\n",
      "\n",
      "    accuracy                           0.94     15579\n",
      "   macro avg       0.82      0.72      0.76     15579\n",
      "weighted avg       0.94      0.94      0.94     15579\n",
      "\n"
     ]
    },
    {
     "data": {
      "image/png": "[encoded data removed]",
      "text/plain": [
       "<Figure size 432x288 with 1 Axes>"
      ]
     },
     "metadata": {
      "needs_background": "light"
     },
     "output_type": "display_data"
    }
   ],
   "source": [
    "model_names = ['Logistic Regression', \n",
    "               'K-Nearest Neighbor', \n",
    "               'Random Forest',\n",
    "               'Naive Bayes']\n",
    "\n",
    "models = [LogisticRegression(), \n",
    "          KNeighborsClassifier(),\n",
    "          RandomForestClassifier(), \n",
    "          MultinomialNB()]\n",
    "\n",
    "for cnt, model in enumerate(models):\n",
    "    \n",
    "    print('Predicting SPAM using {}'.format(model_names[cnt]))\n",
    "    print('**********************************************************************************')\n",
    "    i=0\n",
    "    \n",
    "    for X_train, X_test in vectorized_data:\n",
    "        \n",
    "        print('Utilizing {} vectorized data:'.format(vectorizer_names[i]))\n",
    "        print('------------------------------------------------------\\n')\n",
    "        \n",
    "        model.fit(X_train, y_train)\n",
    "\n",
    "        y_pred = model.predict(X_test)\n",
    "    \n",
    "        print('Accuracy:', accuracy_score(y_test, y_pred))\n",
    "        print('Balanced Accuracy:', balanced_accuracy_score(y_test, y_pred))\n",
    "        print('Confusion Matrix:\\n', confusion_matrix(y_test, y_pred))\n",
    "        print('\\n')\n",
    "        print(classification_report(y_test, y_pred))\n",
    "        \n",
    "        y_probs = model.predict_proba(X_test)\n",
    "        precision, recall, _ = precision_recall_curve(y_test, y_probs[:, 1])\n",
    "        disp = PrecisionRecallDisplay(precision=precision, recall=recall)\n",
    "        disp.plot()\n",
    "        plt.show()\n",
    "        \n",
    "        i+=1\n",
    "    "
   ]
  },
  {
   "cell_type": "code",
   "execution_count": null,
   "id": "7d97255b",
   "metadata": {},
   "outputs": [],
   "source": []
  },
  {
   "cell_type": "code",
   "execution_count": null,
   "id": "01d1153b",
   "metadata": {},
   "outputs": [],
   "source": []
  }
 ],
 "metadata": {
  "kernelspec": {
   "display_name": "Python 3 (ipykernel)",
   "language": "python",
   "name": "python3"
  },
  "language_info": {
   "codemirror_mode": {
    "name": "ipython",
    "version": 3
   },
   "file_extension": ".py",
   "mimetype": "text/x-python",
   "name": "python",
   "nbconvert_exporter": "python",
   "pygments_lexer": "ipython3",
   "version": "3.9.12"
  }
 },
 "nbformat": 4,
 "nbformat_minor": 5
}
