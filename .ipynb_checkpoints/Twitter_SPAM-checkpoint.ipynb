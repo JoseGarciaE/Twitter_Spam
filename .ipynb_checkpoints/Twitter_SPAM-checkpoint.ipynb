{
 "cells": [
  {
   "cell_type": "markdown",
   "id": "bc93af62",
   "metadata": {},
   "source": [
    "# Twitter API Configuration"
   ]
  },
  {
   "cell_type": "code",
   "execution_count": 207,
   "id": "699f8293",
   "metadata": {
    "scrolled": true
   },
   "outputs": [],
   "source": [
    "import numpy as np\n",
    "import pandas as pd\n",
    "import matplotlib.pyplot as plt\n",
    "\n",
    "import requests\n",
    "import os\n",
    "import json"
   ]
  },
  {
   "cell_type": "code",
   "execution_count": 208,
   "id": "7c40c516",
   "metadata": {},
   "outputs": [],
   "source": [
    "bearer_token = os.environ['BEARER_TOKEN']\n",
    "\n",
    "def create_url(tweetIDS):\n",
    "    ids = \"ids=\" + tweetIDS\n",
    "    tweet_fields = \"tweet.fields=source,lang,created_at,public_metrics,context_annotations\"\n",
    "    url = \"https://api.twitter.com/2/tweets?{}&{}\".format(ids, tweet_fields)\n",
    "    return url\n",
    "\n",
    "\n",
    "def bearer_oauth(r):\n",
    "    r.headers[\"Authorization\"] = f\"Bearer {bearer_token}\"\n",
    "    r.headers[\"User-Agent\"] = \"v2TweetLookupPython\"\n",
    "    return r\n",
    "\n",
    "\n",
    "def connect_to_endpoint(url):\n",
    "    response = requests.request(\"GET\", url, auth=bearer_oauth)\n",
    "    print(response.status_code)\n",
    "    if response.status_code != 200:\n",
    "        raise Exception(\n",
    "            \"Request returned an error: {} {}\".format(\n",
    "                response.status_code, response.text\n",
    "            )\n",
    "        )\n",
    "    return response.json()"
   ]
  },
  {
   "cell_type": "markdown",
   "id": "a7d5441f",
   "metadata": {},
   "source": [
    "# Importing Research Data"
   ]
  },
  {
   "cell_type": "code",
   "execution_count": 209,
   "id": "c5d31719",
   "metadata": {
    "scrolled": true
   },
   "outputs": [],
   "source": [
    "#Data sourced from: https://journals.plos.org/plosone/article?id=10.1371/journal.pone.0182487\n",
    "df = pd.read_excel('pone.0182487.s003.xlsx')"
   ]
  },
  {
   "cell_type": "markdown",
   "id": "b69145f6",
   "metadata": {},
   "source": [
    "# Preprocessing"
   ]
  },
  {
   "cell_type": "code",
   "execution_count": 210,
   "id": "4536d85b",
   "metadata": {},
   "outputs": [
    {
     "data": {
      "text/html": [
       "<div>\n",
       "<style scoped>\n",
       "    .dataframe tbody tr th:only-of-type {\n",
       "        vertical-align: middle;\n",
       "    }\n",
       "\n",
       "    .dataframe tbody tr th {\n",
       "        vertical-align: top;\n",
       "    }\n",
       "\n",
       "    .dataframe thead th {\n",
       "        text-align: right;\n",
       "    }\n",
       "</style>\n",
       "<table border=\"1\" class=\"dataframe\">\n",
       "  <thead>\n",
       "    <tr style=\"text-align: right;\">\n",
       "      <th></th>\n",
       "      <th>S1 Table - Tweet data and labels</th>\n",
       "      <th>Unnamed: 1</th>\n",
       "      <th>Unnamed: 2</th>\n",
       "      <th>Unnamed: 3</th>\n",
       "    </tr>\n",
       "  </thead>\n",
       "  <tbody>\n",
       "    <tr>\n",
       "      <th>0</th>\n",
       "      <td>We have used the data according to the Twitter...</td>\n",
       "      <td>NaN</td>\n",
       "      <td>NaN</td>\n",
       "      <td>NaN</td>\n",
       "    </tr>\n",
       "    <tr>\n",
       "      <th>1</th>\n",
       "      <td>NaN</td>\n",
       "      <td>NaN</td>\n",
       "      <td>NaN</td>\n",
       "      <td>NaN</td>\n",
       "    </tr>\n",
       "    <tr>\n",
       "      <th>2</th>\n",
       "      <td>NaN</td>\n",
       "      <td>NaN</td>\n",
       "      <td>NaN</td>\n",
       "      <td>NaN</td>\n",
       "    </tr>\n",
       "    <tr>\n",
       "      <th>3</th>\n",
       "      <td>Tweet id</td>\n",
       "      <td>Label</td>\n",
       "      <td>NaN</td>\n",
       "      <td>NaN</td>\n",
       "    </tr>\n",
       "    <tr>\n",
       "      <th>4</th>\n",
       "      <td>732113301144883204</td>\n",
       "      <td>0</td>\n",
       "      <td>NaN</td>\n",
       "      <td>NaN</td>\n",
       "    </tr>\n",
       "  </tbody>\n",
       "</table>\n",
       "</div>"
      ],
      "text/plain": [
       "                    S1 Table - Tweet data and labels Unnamed: 1  Unnamed: 2  \\\n",
       "0  We have used the data according to the Twitter...        NaN         NaN   \n",
       "1                                                NaN        NaN         NaN   \n",
       "2                                                NaN        NaN         NaN   \n",
       "3                                           Tweet id      Label         NaN   \n",
       "4                                 732113301144883204          0         NaN   \n",
       "\n",
       "   Unnamed: 3  \n",
       "0         NaN  \n",
       "1         NaN  \n",
       "2         NaN  \n",
       "3         NaN  \n",
       "4         NaN  "
      ]
     },
     "execution_count": 210,
     "metadata": {},
     "output_type": "execute_result"
    }
   ],
   "source": [
    "df.head()"
   ]
  },
  {
   "cell_type": "code",
   "execution_count": 211,
   "id": "fb814117",
   "metadata": {
    "scrolled": false
   },
   "outputs": [
    {
     "data": {
      "text/html": [
       "<div>\n",
       "<style scoped>\n",
       "    .dataframe tbody tr th:only-of-type {\n",
       "        vertical-align: middle;\n",
       "    }\n",
       "\n",
       "    .dataframe tbody tr th {\n",
       "        vertical-align: top;\n",
       "    }\n",
       "\n",
       "    .dataframe thead th {\n",
       "        text-align: right;\n",
       "    }\n",
       "</style>\n",
       "<table border=\"1\" class=\"dataframe\">\n",
       "  <thead>\n",
       "    <tr style=\"text-align: right;\">\n",
       "      <th></th>\n",
       "      <th>id</th>\n",
       "      <th>spam</th>\n",
       "    </tr>\n",
       "  </thead>\n",
       "  <tbody>\n",
       "    <tr>\n",
       "      <th>4</th>\n",
       "      <td>732113301144883204</td>\n",
       "      <td>0</td>\n",
       "    </tr>\n",
       "    <tr>\n",
       "      <th>5</th>\n",
       "      <td>732113301182746624</td>\n",
       "      <td>0</td>\n",
       "    </tr>\n",
       "    <tr>\n",
       "      <th>6</th>\n",
       "      <td>732113301145014272</td>\n",
       "      <td>0</td>\n",
       "    </tr>\n",
       "    <tr>\n",
       "      <th>7</th>\n",
       "      <td>732113301149089794</td>\n",
       "      <td>0</td>\n",
       "    </tr>\n",
       "    <tr>\n",
       "      <th>8</th>\n",
       "      <td>732113301178552320</td>\n",
       "      <td>0</td>\n",
       "    </tr>\n",
       "  </tbody>\n",
       "</table>\n",
       "</div>"
      ],
      "text/plain": [
       "                   id spam\n",
       "4  732113301144883204    0\n",
       "5  732113301182746624    0\n",
       "6  732113301145014272    0\n",
       "7  732113301149089794    0\n",
       "8  732113301178552320    0"
      ]
     },
     "execution_count": 211,
     "metadata": {},
     "output_type": "execute_result"
    }
   ],
   "source": [
    "df = df.drop([0,1,2,3])\n",
    "df = df.drop(['Unnamed: 2','Unnamed: 3'], axis=1)\n",
    "df = df.set_axis(['id', 'spam'], axis='columns')\n",
    "df.head()"
   ]
  },
  {
   "cell_type": "code",
   "execution_count": 212,
   "id": "86cfc8cf",
   "metadata": {},
   "outputs": [
    {
     "name": "stdout",
     "output_type": "stream",
     "text": [
      "Missing Values:\n",
      "\n",
      "id      0\n",
      "spam    0\n",
      "dtype: int64\n"
     ]
    }
   ],
   "source": [
    "print('Missing Values:\\n')\n",
    "print(df.isna().sum())"
   ]
  },
  {
   "cell_type": "code",
   "execution_count": 213,
   "id": "44c05f2c",
   "metadata": {},
   "outputs": [
    {
     "data": {
      "image/png": "[encoded data removed]",
      "text/plain": [
       "<Figure size 432x288 with 1 Axes>"
      ]
     },
     "metadata": {
      "needs_background": "light"
     },
     "output_type": "display_data"
    },
    {
     "name": "stdout",
     "output_type": "stream",
     "text": [
      "Spam Count: 9945\n",
      "Good Count: 90055\n",
      "Spam to Good Ratio: 0.09945\n"
     ]
    }
   ],
   "source": [
    "spamCount = df[df['spam']==1].shape[0]\n",
    "goodCount = df[df['spam']==0].shape[0]\n",
    "\n",
    "plt.bar(['Spam', 'Good'], [spamCount, goodCount], color=['red', 'blue'])\n",
    "plt.show()\n",
    "\n",
    "print('Spam Count:', spamCount)\n",
    "print('Good Count:', goodCount)\n",
    "print('Spam to Good Ratio:', spamCount/(spamCount+goodCount))"
   ]
  },
  {
   "cell_type": "markdown",
   "id": "e4b142ef",
   "metadata": {},
   "source": [
    "# Importing Tweets given Research Data"
   ]
  },
  {
   "cell_type": "code",
   "execution_count": null,
   "id": "2c06e139",
   "metadata": {},
   "outputs": [],
   "source": [
    "# tweetIDS = []\n",
    "# temp = ''\n",
    "# for count, val in enumerate(df['id']):\n",
    "#     temp = temp + val + ','\n",
    "#     if count != 0 and count % 99 == 0:\n",
    "#         temp = temp[:-1]\n",
    "#         tweetIDS.append(temp)\n",
    "#         temp = ''\n",
    "\n",
    "# tweetJSON = []\n",
    "\n",
    "# for i in tweetIDS:\n",
    "#     url = create_url(i)\n",
    "#     json_response = connect_to_endpoint(url)\n",
    "#     tweetJSON.append(json_response)\n",
    "\n",
    "# tweetDF = pd.DataFrame(columns=['id', 'lang', 'created_at', 'source', 'text', 'like_count', 'reply_count', 'quote_count'])\n",
    "\n",
    "# for val in tweetJSON:\n",
    "#     for i in val['data']:\n",
    "#         temp = {\n",
    "#             'id': i['id'],\n",
    "#             'lang': i['lang'],\n",
    "#             'created_at': i['created_at'],\n",
    "#             'source': i['source'],\n",
    "#             'text': i['text'],\n",
    "#             'like_count': i['public_metrics']['like_count'],\n",
    "#             'reply_count': i['public_metrics']['reply_count'],\n",
    "#             'quote_count': i['public_metrics']['quote_count']\n",
    "#         }\n",
    "        \n",
    "#         tweetDF = tweetDF.append(temp, ignore_index=True)\n",
    "\n",
    "# tweetDF.to_csv('tweets.csv')"
   ]
  },
  {
   "cell_type": "code",
   "execution_count": null,
   "id": "575dd494",
   "metadata": {},
   "outputs": [],
   "source": []
  }
 ],
 "metadata": {
  "kernelspec": {
   "display_name": "Python 3",
   "language": "python",
   "name": "python3"
  },
  "language_info": {
   "codemirror_mode": {
    "name": "ipython",
    "version": 3
   },
   "file_extension": ".py",
   "mimetype": "text/x-python",
   "name": "python",
   "nbconvert_exporter": "python",
   "pygments_lexer": "ipython3",
   "version": "3.8.8"
  }
 },
 "nbformat": 4,
 "nbformat_minor": 5
}
