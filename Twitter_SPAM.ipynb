{
 "cells": [
  {
   "cell_type": "code",
   "execution_count": 3,
   "id": "e4d93e0b",
   "metadata": {},
   "outputs": [],
   "source": [
    "import random\n",
    "import re\n",
    "\n",
    "import numpy as np\n",
    "import pandas as pd\n",
    "import matplotlib.pyplot as plt\n",
    "\n",
    "import seaborn as sns\n",
    "\n",
    "from sklearn.model_selection import train_test_split, cross_val_score\n",
    "from sklearn.feature_extraction.text import TfidfVectorizer\n",
    "\n",
    "from sklearn.linear_model import LogisticRegression\n",
    "from sklearn.ensemble import RandomForestClassifier\n",
    "\n",
    "\n",
    "from sklearn.metrics import classification_report, confusion_matrix, accuracy_score"
   ]
  },
  {
   "cell_type": "markdown",
   "id": "0704d604",
   "metadata": {},
   "source": [
    "# Twitter API Configuration"
   ]
  },
  {
   "cell_type": "code",
   "execution_count": 4,
   "id": "699f8293",
   "metadata": {
    "scrolled": true
   },
   "outputs": [],
   "source": [
    "import requests\n",
    "import os\n",
    "import json"
   ]
  },
  {
   "cell_type": "code",
   "execution_count": 5,
   "id": "7c40c516",
   "metadata": {},
   "outputs": [],
   "source": [
    "# bearer_token = os.environ['BEARER_TOKEN']\n",
    "\n",
    "def create_url(tweetIDS):\n",
    "    ids = \"ids=\" + tweetIDS\n",
    "    tweet_fields = \"tweet.fields=source,lang,created_at,public_metrics,context_annotations\"\n",
    "    url = \"https://api.twitter.com/2/tweets?{}&{}\".format(ids, tweet_fields)\n",
    "    return url\n",
    "\n",
    "\n",
    "def bearer_oauth(r):\n",
    "    r.headers[\"Authorization\"] = f\"Bearer {bearer_token}\"\n",
    "    r.headers[\"User-Agent\"] = \"v2TweetLookupPython\"\n",
    "    return r\n",
    "\n",
    "\n",
    "def connect_to_endpoint(url):\n",
    "    response = requests.request(\"GET\", url, auth=bearer_oauth)\n",
    "    print(response.status_code)\n",
    "    if response.status_code != 200:\n",
    "        raise Exception(\n",
    "            \"Request returned an error: {} {}\".format(\n",
    "                response.status_code, response.text\n",
    "            )\n",
    "        )\n",
    "    return response.json()"
   ]
  },
  {
   "cell_type": "markdown",
   "id": "a7d5441f",
   "metadata": {},
   "source": [
    "# Importing Research Data"
   ]
  },
  {
   "cell_type": "code",
   "execution_count": 6,
   "id": "c5d31719",
   "metadata": {
    "scrolled": true
   },
   "outputs": [],
   "source": [
    "#Data sourced from: https://journals.plos.org/plosone/article?id=10.1371/journal.pone.0182487\n",
    "df = pd.read_excel('pone.0182487.s003.xlsx')"
   ]
  },
  {
   "cell_type": "markdown",
   "id": "b69145f6",
   "metadata": {},
   "source": [
    "# Preprocessing"
   ]
  },
  {
   "cell_type": "code",
   "execution_count": 7,
   "id": "4536d85b",
   "metadata": {},
   "outputs": [
    {
     "data": {
      "text/html": [
       "<div>\n",
       "<style scoped>\n",
       "    .dataframe tbody tr th:only-of-type {\n",
       "        vertical-align: middle;\n",
       "    }\n",
       "\n",
       "    .dataframe tbody tr th {\n",
       "        vertical-align: top;\n",
       "    }\n",
       "\n",
       "    .dataframe thead th {\n",
       "        text-align: right;\n",
       "    }\n",
       "</style>\n",
       "<table border=\"1\" class=\"dataframe\">\n",
       "  <thead>\n",
       "    <tr style=\"text-align: right;\">\n",
       "      <th></th>\n",
       "      <th>S1 Table - Tweet data and labels</th>\n",
       "      <th>Unnamed: 1</th>\n",
       "      <th>Unnamed: 2</th>\n",
       "      <th>Unnamed: 3</th>\n",
       "    </tr>\n",
       "  </thead>\n",
       "  <tbody>\n",
       "    <tr>\n",
       "      <th>0</th>\n",
       "      <td>We have used the data according to the Twitter...</td>\n",
       "      <td>NaN</td>\n",
       "      <td>NaN</td>\n",
       "      <td>NaN</td>\n",
       "    </tr>\n",
       "    <tr>\n",
       "      <th>1</th>\n",
       "      <td>NaN</td>\n",
       "      <td>NaN</td>\n",
       "      <td>NaN</td>\n",
       "      <td>NaN</td>\n",
       "    </tr>\n",
       "    <tr>\n",
       "      <th>2</th>\n",
       "      <td>NaN</td>\n",
       "      <td>NaN</td>\n",
       "      <td>NaN</td>\n",
       "      <td>NaN</td>\n",
       "    </tr>\n",
       "    <tr>\n",
       "      <th>3</th>\n",
       "      <td>Tweet id</td>\n",
       "      <td>Label</td>\n",
       "      <td>NaN</td>\n",
       "      <td>NaN</td>\n",
       "    </tr>\n",
       "    <tr>\n",
       "      <th>4</th>\n",
       "      <td>732113301144883204</td>\n",
       "      <td>0</td>\n",
       "      <td>NaN</td>\n",
       "      <td>NaN</td>\n",
       "    </tr>\n",
       "  </tbody>\n",
       "</table>\n",
       "</div>"
      ],
      "text/plain": [
       "                    S1 Table - Tweet data and labels Unnamed: 1  Unnamed: 2  \\\n",
       "0  We have used the data according to the Twitter...        NaN         NaN   \n",
       "1                                                NaN        NaN         NaN   \n",
       "2                                                NaN        NaN         NaN   \n",
       "3                                           Tweet id      Label         NaN   \n",
       "4                                 732113301144883204          0         NaN   \n",
       "\n",
       "   Unnamed: 3  \n",
       "0         NaN  \n",
       "1         NaN  \n",
       "2         NaN  \n",
       "3         NaN  \n",
       "4         NaN  "
      ]
     },
     "execution_count": 7,
     "metadata": {},
     "output_type": "execute_result"
    }
   ],
   "source": [
    "df.head()"
   ]
  },
  {
   "cell_type": "code",
   "execution_count": 8,
   "id": "fb814117",
   "metadata": {
    "scrolled": false
   },
   "outputs": [
    {
     "data": {
      "text/html": [
       "<div>\n",
       "<style scoped>\n",
       "    .dataframe tbody tr th:only-of-type {\n",
       "        vertical-align: middle;\n",
       "    }\n",
       "\n",
       "    .dataframe tbody tr th {\n",
       "        vertical-align: top;\n",
       "    }\n",
       "\n",
       "    .dataframe thead th {\n",
       "        text-align: right;\n",
       "    }\n",
       "</style>\n",
       "<table border=\"1\" class=\"dataframe\">\n",
       "  <thead>\n",
       "    <tr style=\"text-align: right;\">\n",
       "      <th></th>\n",
       "      <th>id</th>\n",
       "      <th>spam</th>\n",
       "    </tr>\n",
       "  </thead>\n",
       "  <tbody>\n",
       "    <tr>\n",
       "      <th>4</th>\n",
       "      <td>732113301144883204</td>\n",
       "      <td>0</td>\n",
       "    </tr>\n",
       "    <tr>\n",
       "      <th>5</th>\n",
       "      <td>732113301182746624</td>\n",
       "      <td>0</td>\n",
       "    </tr>\n",
       "    <tr>\n",
       "      <th>6</th>\n",
       "      <td>732113301145014272</td>\n",
       "      <td>0</td>\n",
       "    </tr>\n",
       "    <tr>\n",
       "      <th>7</th>\n",
       "      <td>732113301149089794</td>\n",
       "      <td>0</td>\n",
       "    </tr>\n",
       "    <tr>\n",
       "      <th>8</th>\n",
       "      <td>732113301178552320</td>\n",
       "      <td>0</td>\n",
       "    </tr>\n",
       "  </tbody>\n",
       "</table>\n",
       "</div>"
      ],
      "text/plain": [
       "                   id spam\n",
       "4  732113301144883204    0\n",
       "5  732113301182746624    0\n",
       "6  732113301145014272    0\n",
       "7  732113301149089794    0\n",
       "8  732113301178552320    0"
      ]
     },
     "execution_count": 8,
     "metadata": {},
     "output_type": "execute_result"
    }
   ],
   "source": [
    "#Fixing columnns and rows\n",
    "df = df.drop([0,1,2,3])\n",
    "df = df.drop(['Unnamed: 2','Unnamed: 3'], axis=1)\n",
    "df = df.set_axis(['id', 'spam'], axis='columns')\n",
    "df.head()"
   ]
  },
  {
   "cell_type": "code",
   "execution_count": 9,
   "id": "86cfc8cf",
   "metadata": {
    "scrolled": true
   },
   "outputs": [
    {
     "name": "stdout",
     "output_type": "stream",
     "text": [
      "Missing Values:\n",
      "\n",
      "id      0\n",
      "spam    0\n",
      "dtype: int64\n"
     ]
    }
   ],
   "source": [
    "#Checking for missing values\n",
    "print('Missing Values:\\n')\n",
    "print(df.isna().sum())"
   ]
  },
  {
   "cell_type": "markdown",
   "id": "a6e27bfa",
   "metadata": {},
   "source": [
    "# Visualization"
   ]
  },
  {
   "cell_type": "code",
   "execution_count": 10,
   "id": "44c05f2c",
   "metadata": {},
   "outputs": [
    {
     "name": "stdout",
     "output_type": "stream",
     "text": [
      "Spam Count: 9945\n",
      "Good Count: 90055\n",
      "Spam to Good Ratio: 0.09945\n"
     ]
    },
    {
     "data": {
      "image/png": "[encoded data removed]",
      "text/plain": [
       "<Figure size 432x288 with 1 Axes>"
      ]
     },
     "metadata": {
      "needs_background": "light"
     },
     "output_type": "display_data"
    }
   ],
   "source": [
    "spamCount = df[df['spam']==1].shape[0]\n",
    "goodCount = df[df['spam']==0].shape[0]\n",
    "\n",
    "sns.countplot(data=df, x='spam')\n",
    "\n",
    "print('Spam Count:', spamCount)\n",
    "print('Good Count:', goodCount)\n",
    "print('Spam to Good Ratio:', spamCount/(spamCount+goodCount))"
   ]
  },
  {
   "cell_type": "markdown",
   "id": "10a70c43",
   "metadata": {},
   "source": [
    "# Importing Tweets given Research Data"
   ]
  },
  {
   "cell_type": "code",
   "execution_count": 11,
   "id": "27e34290",
   "metadata": {},
   "outputs": [],
   "source": [
    "# tweetIDS = []\n",
    "# temp = ''\n",
    "# for count, val in enumerate(df['id']):\n",
    "#     temp = temp + val + ','\n",
    "#     if count != 0 and count % 99 == 0:\n",
    "#         temp = temp[:-1]\n",
    "#         tweetIDS.append(temp)\n",
    "#         temp = ''\n",
    "\n",
    "# tweetJSON = []\n",
    "\n",
    "# for i in tweetIDS:\n",
    "#     url = create_url(i)\n",
    "#     json_response = connect_to_endpoint(url)\n",
    "#     tweetJSON.append(json_response)\n",
    "\n",
    "# tweetDF = pd.DataFrame(columns=['id', 'lang', 'created_at', 'source', 'text', 'like_count', 'reply_count', 'quote_count'])\n",
    "\n",
    "# for val in tweetJSON:\n",
    "#     for i in val['data']:\n",
    "#         temp = {\n",
    "#             'id': i['id'],\n",
    "#             'lang': i['lang'],\n",
    "#             'created_at': i['created_at'],\n",
    "#             'source': i['source'],\n",
    "#             'text': i['text'],\n",
    "#             'like_count': i['public_metrics']['like_count'],\n",
    "#             'reply_count': i['public_metrics']['reply_count'],\n",
    "#             'quote_count': i['public_metrics']['quote_count']\n",
    "#         }\n",
    "        \n",
    "#         tweetDF = tweetDF.append(temp, ignore_index=True)\n",
    "\n",
    "# tweetDF.to_csv('tweets.csv')"
   ]
  },
  {
   "cell_type": "markdown",
   "id": "d2065b49",
   "metadata": {},
   "source": [
    "# Combing Tweet Data and Research Data"
   ]
  },
  {
   "cell_type": "code",
   "execution_count": 12,
   "id": "5fcb321e",
   "metadata": {},
   "outputs": [
    {
     "data": {
      "text/html": [
       "<div>\n",
       "<style scoped>\n",
       "    .dataframe tbody tr th:only-of-type {\n",
       "        vertical-align: middle;\n",
       "    }\n",
       "\n",
       "    .dataframe tbody tr th {\n",
       "        vertical-align: top;\n",
       "    }\n",
       "\n",
       "    .dataframe thead th {\n",
       "        text-align: right;\n",
       "    }\n",
       "</style>\n",
       "<table border=\"1\" class=\"dataframe\">\n",
       "  <thead>\n",
       "    <tr style=\"text-align: right;\">\n",
       "      <th></th>\n",
       "      <th>Unnamed: 0</th>\n",
       "      <th>id</th>\n",
       "      <th>lang</th>\n",
       "      <th>created_at</th>\n",
       "      <th>source</th>\n",
       "      <th>text</th>\n",
       "      <th>like_count</th>\n",
       "      <th>reply_count</th>\n",
       "      <th>quote_count</th>\n",
       "      <th>spam</th>\n",
       "    </tr>\n",
       "  </thead>\n",
       "  <tbody>\n",
       "    <tr>\n",
       "      <th>0</th>\n",
       "      <td>0</td>\n",
       "      <td>732113301182746624</td>\n",
       "      <td>en</td>\n",
       "      <td>2016-05-16T07:39:47.000Z</td>\n",
       "      <td>Tweetbot for iΟS</td>\n",
       "      <td>RT @odinodin: I just made a tool for inspectin...</td>\n",
       "      <td>0</td>\n",
       "      <td>0</td>\n",
       "      <td>0</td>\n",
       "      <td>0</td>\n",
       "    </tr>\n",
       "    <tr>\n",
       "      <th>1</th>\n",
       "      <td>1</td>\n",
       "      <td>732113301145014272</td>\n",
       "      <td>en</td>\n",
       "      <td>2016-05-16T07:39:47.000Z</td>\n",
       "      <td>Twitter for Android</td>\n",
       "      <td>HAPPY BIRTHDAY JOSEPH 💓 @JosephMorgan</td>\n",
       "      <td>0</td>\n",
       "      <td>0</td>\n",
       "      <td>0</td>\n",
       "      <td>0</td>\n",
       "    </tr>\n",
       "    <tr>\n",
       "      <th>2</th>\n",
       "      <td>2</td>\n",
       "      <td>732113301149089794</td>\n",
       "      <td>en</td>\n",
       "      <td>2016-05-16T07:39:47.000Z</td>\n",
       "      <td>Twitter for iPad</td>\n",
       "      <td>RT @zeecinema: Yeh inka dopahar ka program hai...</td>\n",
       "      <td>0</td>\n",
       "      <td>0</td>\n",
       "      <td>0</td>\n",
       "      <td>0</td>\n",
       "    </tr>\n",
       "    <tr>\n",
       "      <th>3</th>\n",
       "      <td>3</td>\n",
       "      <td>732113305376940032</td>\n",
       "      <td>en</td>\n",
       "      <td>2016-05-16T07:39:48.000Z</td>\n",
       "      <td>Twitter for Android</td>\n",
       "      <td>RT @iitian_kshitij: Actually they have become ...</td>\n",
       "      <td>0</td>\n",
       "      <td>0</td>\n",
       "      <td>0</td>\n",
       "      <td>0</td>\n",
       "    </tr>\n",
       "    <tr>\n",
       "      <th>4</th>\n",
       "      <td>4</td>\n",
       "      <td>732113305347612672</td>\n",
       "      <td>en</td>\n",
       "      <td>2016-05-16T07:39:48.000Z</td>\n",
       "      <td>Twitter for iPhone</td>\n",
       "      <td>@JaimesonPaul lock all windows and doors don't...</td>\n",
       "      <td>0</td>\n",
       "      <td>1</td>\n",
       "      <td>0</td>\n",
       "      <td>0</td>\n",
       "    </tr>\n",
       "  </tbody>\n",
       "</table>\n",
       "</div>"
      ],
      "text/plain": [
       "   Unnamed: 0                  id lang                created_at  \\\n",
       "0           0  732113301182746624   en  2016-05-16T07:39:47.000Z   \n",
       "1           1  732113301145014272   en  2016-05-16T07:39:47.000Z   \n",
       "2           2  732113301149089794   en  2016-05-16T07:39:47.000Z   \n",
       "3           3  732113305376940032   en  2016-05-16T07:39:48.000Z   \n",
       "4           4  732113305347612672   en  2016-05-16T07:39:48.000Z   \n",
       "\n",
       "                source                                               text  \\\n",
       "0     Tweetbot for iΟS  RT @odinodin: I just made a tool for inspectin...   \n",
       "1  Twitter for Android              HAPPY BIRTHDAY JOSEPH 💓 @JosephMorgan   \n",
       "2     Twitter for iPad  RT @zeecinema: Yeh inka dopahar ka program hai...   \n",
       "3  Twitter for Android  RT @iitian_kshitij: Actually they have become ...   \n",
       "4   Twitter for iPhone  @JaimesonPaul lock all windows and doors don't...   \n",
       "\n",
       "   like_count  reply_count  quote_count  spam  \n",
       "0           0            0            0     0  \n",
       "1           0            0            0     0  \n",
       "2           0            0            0     0  \n",
       "3           0            0            0     0  \n",
       "4           0            1            0     0  "
      ]
     },
     "execution_count": 12,
     "metadata": {},
     "output_type": "execute_result"
    }
   ],
   "source": [
    "tweetDF = pd.read_csv('tweets.csv')\n",
    "\n",
    "tweetDF['id'] = tweetDF['id'].astype(str)\n",
    "tweetDF['source'] = tweetDF['source'].astype(str)\n",
    "tweetDF['text'] = tweetDF['text'].astype(str)\n",
    "\n",
    "\n",
    "df['id'] = df['id'].astype(str)\n",
    "df['spam'] = df['spam'].astype(int)\n",
    "\n",
    "data = pd.merge(tweetDF,df, how='inner', on='id')\n",
    "data.head()"
   ]
  },
  {
   "cell_type": "markdown",
   "id": "48b123ea",
   "metadata": {},
   "source": [
    "# Preprocessing"
   ]
  },
  {
   "cell_type": "code",
   "execution_count": 13,
   "id": "373eb688",
   "metadata": {},
   "outputs": [
    {
     "data": {
      "text/html": [
       "<div>\n",
       "<style scoped>\n",
       "    .dataframe tbody tr th:only-of-type {\n",
       "        vertical-align: middle;\n",
       "    }\n",
       "\n",
       "    .dataframe tbody tr th {\n",
       "        vertical-align: top;\n",
       "    }\n",
       "\n",
       "    .dataframe thead th {\n",
       "        text-align: right;\n",
       "    }\n",
       "</style>\n",
       "<table border=\"1\" class=\"dataframe\">\n",
       "  <thead>\n",
       "    <tr style=\"text-align: right;\">\n",
       "      <th></th>\n",
       "      <th>id</th>\n",
       "      <th>lang</th>\n",
       "      <th>created_at</th>\n",
       "      <th>source</th>\n",
       "      <th>text</th>\n",
       "      <th>like_count</th>\n",
       "      <th>reply_count</th>\n",
       "      <th>quote_count</th>\n",
       "      <th>spam</th>\n",
       "    </tr>\n",
       "  </thead>\n",
       "  <tbody>\n",
       "    <tr>\n",
       "      <th>0</th>\n",
       "      <td>732113301182746624</td>\n",
       "      <td>en</td>\n",
       "      <td>2016-05-16T07:39:47.000Z</td>\n",
       "      <td>Tweetbot for iΟS</td>\n",
       "      <td>RT @odinodin: I just made a tool for inspectin...</td>\n",
       "      <td>0</td>\n",
       "      <td>0</td>\n",
       "      <td>0</td>\n",
       "      <td>0</td>\n",
       "    </tr>\n",
       "    <tr>\n",
       "      <th>1</th>\n",
       "      <td>732113301145014272</td>\n",
       "      <td>en</td>\n",
       "      <td>2016-05-16T07:39:47.000Z</td>\n",
       "      <td>Twitter for Android</td>\n",
       "      <td>HAPPY BIRTHDAY JOSEPH 💓 @JosephMorgan</td>\n",
       "      <td>0</td>\n",
       "      <td>0</td>\n",
       "      <td>0</td>\n",
       "      <td>0</td>\n",
       "    </tr>\n",
       "    <tr>\n",
       "      <th>2</th>\n",
       "      <td>732113301149089794</td>\n",
       "      <td>en</td>\n",
       "      <td>2016-05-16T07:39:47.000Z</td>\n",
       "      <td>Twitter for iPad</td>\n",
       "      <td>RT @zeecinema: Yeh inka dopahar ka program hai...</td>\n",
       "      <td>0</td>\n",
       "      <td>0</td>\n",
       "      <td>0</td>\n",
       "      <td>0</td>\n",
       "    </tr>\n",
       "    <tr>\n",
       "      <th>3</th>\n",
       "      <td>732113305376940032</td>\n",
       "      <td>en</td>\n",
       "      <td>2016-05-16T07:39:48.000Z</td>\n",
       "      <td>Twitter for Android</td>\n",
       "      <td>RT @iitian_kshitij: Actually they have become ...</td>\n",
       "      <td>0</td>\n",
       "      <td>0</td>\n",
       "      <td>0</td>\n",
       "      <td>0</td>\n",
       "    </tr>\n",
       "    <tr>\n",
       "      <th>4</th>\n",
       "      <td>732113305347612672</td>\n",
       "      <td>en</td>\n",
       "      <td>2016-05-16T07:39:48.000Z</td>\n",
       "      <td>Twitter for iPhone</td>\n",
       "      <td>@JaimesonPaul lock all windows and doors don't...</td>\n",
       "      <td>0</td>\n",
       "      <td>1</td>\n",
       "      <td>0</td>\n",
       "      <td>0</td>\n",
       "    </tr>\n",
       "  </tbody>\n",
       "</table>\n",
       "</div>"
      ],
      "text/plain": [
       "                   id lang                created_at               source  \\\n",
       "0  732113301182746624   en  2016-05-16T07:39:47.000Z     Tweetbot for iΟS   \n",
       "1  732113301145014272   en  2016-05-16T07:39:47.000Z  Twitter for Android   \n",
       "2  732113301149089794   en  2016-05-16T07:39:47.000Z     Twitter for iPad   \n",
       "3  732113305376940032   en  2016-05-16T07:39:48.000Z  Twitter for Android   \n",
       "4  732113305347612672   en  2016-05-16T07:39:48.000Z   Twitter for iPhone   \n",
       "\n",
       "                                                text  like_count  reply_count  \\\n",
       "0  RT @odinodin: I just made a tool for inspectin...           0            0   \n",
       "1              HAPPY BIRTHDAY JOSEPH 💓 @JosephMorgan           0            0   \n",
       "2  RT @zeecinema: Yeh inka dopahar ka program hai...           0            0   \n",
       "3  RT @iitian_kshitij: Actually they have become ...           0            0   \n",
       "4  @JaimesonPaul lock all windows and doors don't...           0            1   \n",
       "\n",
       "   quote_count  spam  \n",
       "0            0     0  \n",
       "1            0     0  \n",
       "2            0     0  \n",
       "3            0     0  \n",
       "4            0     0  "
      ]
     },
     "execution_count": 13,
     "metadata": {},
     "output_type": "execute_result"
    }
   ],
   "source": [
    "data = data.drop('Unnamed: 0', axis=1)\n",
    "data.head()"
   ]
  },
  {
   "cell_type": "code",
   "execution_count": 14,
   "id": "015d0b99",
   "metadata": {},
   "outputs": [
    {
     "data": {
      "text/html": [
       "<div>\n",
       "<style scoped>\n",
       "    .dataframe tbody tr th:only-of-type {\n",
       "        vertical-align: middle;\n",
       "    }\n",
       "\n",
       "    .dataframe tbody tr th {\n",
       "        vertical-align: top;\n",
       "    }\n",
       "\n",
       "    .dataframe thead th {\n",
       "        text-align: right;\n",
       "    }\n",
       "</style>\n",
       "<table border=\"1\" class=\"dataframe\">\n",
       "  <thead>\n",
       "    <tr style=\"text-align: right;\">\n",
       "      <th></th>\n",
       "      <th>id</th>\n",
       "      <th>lang</th>\n",
       "      <th>created_at</th>\n",
       "      <th>source</th>\n",
       "      <th>text</th>\n",
       "      <th>like_count</th>\n",
       "      <th>reply_count</th>\n",
       "      <th>quote_count</th>\n",
       "      <th>spam</th>\n",
       "    </tr>\n",
       "  </thead>\n",
       "  <tbody>\n",
       "    <tr>\n",
       "      <th>0</th>\n",
       "      <td>732113301182746624</td>\n",
       "      <td>en</td>\n",
       "      <td>2016-05-16T07:39:47.000Z</td>\n",
       "      <td>tweetbot for iοs</td>\n",
       "      <td>i just made a tool for inspecting data in a ...</td>\n",
       "      <td>0</td>\n",
       "      <td>0</td>\n",
       "      <td>0</td>\n",
       "      <td>0</td>\n",
       "    </tr>\n",
       "    <tr>\n",
       "      <th>1</th>\n",
       "      <td>732113301145014272</td>\n",
       "      <td>en</td>\n",
       "      <td>2016-05-16T07:39:47.000Z</td>\n",
       "      <td>twitter for android</td>\n",
       "      <td>happy bihday joseph 💓</td>\n",
       "      <td>0</td>\n",
       "      <td>0</td>\n",
       "      <td>0</td>\n",
       "      <td>0</td>\n",
       "    </tr>\n",
       "    <tr>\n",
       "      <th>2</th>\n",
       "      <td>732113301149089794</td>\n",
       "      <td>en</td>\n",
       "      <td>2016-05-16T07:39:47.000Z</td>\n",
       "      <td>twitter for ipad</td>\n",
       "      <td>yeh inka dopahar ka program hai! are you wat...</td>\n",
       "      <td>0</td>\n",
       "      <td>0</td>\n",
       "      <td>0</td>\n",
       "      <td>0</td>\n",
       "    </tr>\n",
       "    <tr>\n",
       "      <th>3</th>\n",
       "      <td>732113305376940032</td>\n",
       "      <td>en</td>\n",
       "      <td>2016-05-16T07:39:48.000Z</td>\n",
       "      <td>twitter for android</td>\n",
       "      <td>actually they have become middle man too !</td>\n",
       "      <td>0</td>\n",
       "      <td>0</td>\n",
       "      <td>0</td>\n",
       "      <td>0</td>\n",
       "    </tr>\n",
       "    <tr>\n",
       "      <th>4</th>\n",
       "      <td>732113305347612672</td>\n",
       "      <td>en</td>\n",
       "      <td>2016-05-16T07:39:48.000Z</td>\n",
       "      <td>twitter for iphone</td>\n",
       "      <td>lock all windows and doors don't investigate ...</td>\n",
       "      <td>0</td>\n",
       "      <td>1</td>\n",
       "      <td>0</td>\n",
       "      <td>0</td>\n",
       "    </tr>\n",
       "  </tbody>\n",
       "</table>\n",
       "</div>"
      ],
      "text/plain": [
       "                   id lang                created_at               source  \\\n",
       "0  732113301182746624   en  2016-05-16T07:39:47.000Z     tweetbot for iοs   \n",
       "1  732113301145014272   en  2016-05-16T07:39:47.000Z  twitter for android   \n",
       "2  732113301149089794   en  2016-05-16T07:39:47.000Z     twitter for ipad   \n",
       "3  732113305376940032   en  2016-05-16T07:39:48.000Z  twitter for android   \n",
       "4  732113305347612672   en  2016-05-16T07:39:48.000Z   twitter for iphone   \n",
       "\n",
       "                                                text  like_count  reply_count  \\\n",
       "0    i just made a tool for inspecting data in a ...           0            0   \n",
       "1                             happy bihday joseph 💓            0            0   \n",
       "2    yeh inka dopahar ka program hai! are you wat...           0            0   \n",
       "3        actually they have become middle man too !            0            0   \n",
       "4   lock all windows and doors don't investigate ...           0            1   \n",
       "\n",
       "   quote_count  spam  \n",
       "0            0     0  \n",
       "1            0     0  \n",
       "2            0     0  \n",
       "3            0     0  \n",
       "4            0     0  "
      ]
     },
     "execution_count": 14,
     "metadata": {},
     "output_type": "execute_result"
    }
   ],
   "source": [
    "#Lowercase expression\n",
    "lower = lambda x: x.lower()\n",
    "\n",
    "data['source'], data['text'] = data['source'].apply(lower), data['text'].apply(lower)\n",
    "\n",
    "#Removing hyperlinks from tweets\n",
    "removeHyper = lambda x: re.sub(r\"http\\S+\", \"\", x)\n",
    "\n",
    "data['text'] = data['text'].apply(removeHyper)\n",
    "\n",
    "\n",
    "#Removing retweet from tweets\n",
    "removeRetweet = lambda x: re.sub(r\"rt\", \"\", x)\n",
    "\n",
    "data['text'] = data['text'].apply(removeRetweet)\n",
    "\n",
    "#Removing @'s from tweets\n",
    "removeAT = lambda x: re.sub(r\"@\\S+\", \"\", x)\n",
    "\n",
    "data['text'] = data['text'].apply(removeAT)\n",
    "\n",
    "data.head()"
   ]
  },
  {
   "cell_type": "markdown",
   "id": "788740e8",
   "metadata": {},
   "source": [
    "# Visualization"
   ]
  },
  {
   "cell_type": "code",
   "execution_count": 15,
   "id": "563b05a2",
   "metadata": {
    "scrolled": true
   },
   "outputs": [
    {
     "name": "stdout",
     "output_type": "stream",
     "text": [
      "Spam Count: 3345\n",
      "Good Count: 43390\n",
      "Spam to Good Ratio: 0.07157376698405905\n"
     ]
    },
    {
     "data": {
      "image/png": "[encoded data removed]",
      "text/plain": [
       "<Figure size 432x288 with 1 Axes>"
      ]
     },
     "metadata": {
      "needs_background": "light"
     },
     "output_type": "display_data"
    }
   ],
   "source": [
    "spamCount = data[data['spam']==1].shape[0]\n",
    "goodCount = data[data['spam']==0].shape[0]\n",
    "\n",
    "sns.countplot(data=data, x='spam')\n",
    "\n",
    "print('Spam Count:', spamCount)\n",
    "print('Good Count:', goodCount)\n",
    "print('Spam to Good Ratio:', spamCount/(spamCount+goodCount))"
   ]
  },
  {
   "cell_type": "code",
   "execution_count": 16,
   "id": "fb1d50a7",
   "metadata": {
    "scrolled": true
   },
   "outputs": [
    {
     "data": {
      "image/png": "[encoded data removed]",
      "text/plain": [
       "<Figure size 432x288 with 3 Axes>"
      ]
     },
     "metadata": {
      "needs_background": "light"
     },
     "output_type": "display_data"
    }
   ],
   "source": [
    "#Checking for outliers\n",
    "fig, ax =plt.subplots(1,3)\n",
    "sns.boxplot(x=data['like_count'], ax=ax[0])\n",
    "sns.boxplot(x=data['reply_count'],ax=ax[1])\n",
    "sns.boxplot(x=data['quote_count'],ax=ax[2])\n",
    "plt.show()"
   ]
  },
  {
   "cell_type": "code",
   "execution_count": 17,
   "id": "3722434f",
   "metadata": {},
   "outputs": [],
   "source": [
    "#Removing obvious outliers\n",
    "data = data.drop(data.index[data['like_count']>1000].tolist())  \n",
    "data = data.drop(data.index[data['reply_count']>100].tolist())  \n",
    "data = data.drop(data.index[data['quote_count']>50].tolist()) "
   ]
  },
  {
   "cell_type": "code",
   "execution_count": 18,
   "id": "2ad04a1d",
   "metadata": {},
   "outputs": [
    {
     "data": {
      "image/png": "[encoded data removed]",
      "text/plain": [
       "<Figure size 1080x1080 with 3 Axes>"
      ]
     },
     "metadata": {
      "needs_background": "light"
     },
     "output_type": "display_data"
    }
   ],
   "source": [
    "fig, ax = plt.subplots(3,figsize=(15,15))\n",
    "\n",
    "sns.countplot(x=data['like_count'],hue=data['spam'], ax=ax[0])\n",
    "ax[0].set_xlim(0,25)\n",
    "ax[0].set_ylim(0,50)\n",
    "\n",
    "sns.countplot(x=data['reply_count'],hue=data['spam'], ax=ax[1])\n",
    "ax[1].set_xlim(0,20)\n",
    "ax[1].set_ylim(0,50)\n",
    "\n",
    "sns.countplot(x=data['quote_count'],hue=data['spam'], ax=ax[2])\n",
    "ax[2].set_xlim(0,10)\n",
    "ax[2].set_ylim(0,15)\n",
    "\n",
    "plt.show()"
   ]
  },
  {
   "cell_type": "markdown",
   "id": "b2dd0824",
   "metadata": {},
   "source": [
    "# Predicting SPAM through Tweet Text"
   ]
  },
  {
   "cell_type": "markdown",
   "id": "544c2491",
   "metadata": {},
   "source": [
    "### Train Test Split"
   ]
  },
  {
   "cell_type": "code",
   "execution_count": 35,
   "id": "4ee74099",
   "metadata": {},
   "outputs": [],
   "source": [
    "#For models predicting using text\n",
    "X_train, X_test, y_train, y_test = train_test_split(data['text'], data['spam'], test_size=1/3, random_state=0)\n",
    "\n",
    "vectorizer = TfidfVectorizer(stop_words='english')\n",
    "tfidf_X_train = vectorizer.fit_transform(X_train)\n",
    "tfidf_X_test  = vectorizer.transform(X_test)"
   ]
  },
  {
   "cell_type": "code",
   "execution_count": 97,
   "id": "dedc7810",
   "metadata": {},
   "outputs": [
    {
     "name": "stdout",
     "output_type": "stream",
     "text": [
      "(31154,) \n",
      "\n"
     ]
    },
    {
     "data": {
      "text/html": [
       "<div>\n",
       "<style scoped>\n",
       "    .dataframe tbody tr th:only-of-type {\n",
       "        vertical-align: middle;\n",
       "    }\n",
       "\n",
       "    .dataframe tbody tr th {\n",
       "        vertical-align: top;\n",
       "    }\n",
       "\n",
       "    .dataframe thead th {\n",
       "        text-align: right;\n",
       "    }\n",
       "</style>\n",
       "<table border=\"1\" class=\"dataframe\">\n",
       "  <thead>\n",
       "    <tr style=\"text-align: right;\">\n",
       "      <th></th>\n",
       "      <th>tf_idf</th>\n",
       "    </tr>\n",
       "  </thead>\n",
       "  <tbody>\n",
       "    <tr>\n",
       "      <th>nope</th>\n",
       "      <td>0.824786</td>\n",
       "    </tr>\n",
       "    <tr>\n",
       "      <th>lol</th>\n",
       "      <td>0.565445</td>\n",
       "    </tr>\n",
       "    <tr>\n",
       "      <th>00</th>\n",
       "      <td>0.000000</td>\n",
       "    </tr>\n",
       "    <tr>\n",
       "      <th>personnel</th>\n",
       "      <td>0.000000</td>\n",
       "    </tr>\n",
       "    <tr>\n",
       "      <th>personalized</th>\n",
       "      <td>0.000000</td>\n",
       "    </tr>\n",
       "    <tr>\n",
       "      <th>...</th>\n",
       "      <td>...</td>\n",
       "    </tr>\n",
       "    <tr>\n",
       "      <th>fayyaz</th>\n",
       "      <td>0.000000</td>\n",
       "    </tr>\n",
       "    <tr>\n",
       "      <th>fayre</th>\n",
       "      <td>0.000000</td>\n",
       "    </tr>\n",
       "    <tr>\n",
       "      <th>fayette</th>\n",
       "      <td>0.000000</td>\n",
       "    </tr>\n",
       "    <tr>\n",
       "      <th>faxts</th>\n",
       "      <td>0.000000</td>\n",
       "    </tr>\n",
       "    <tr>\n",
       "      <th>ｙｏｕ</th>\n",
       "      <td>0.000000</td>\n",
       "    </tr>\n",
       "  </tbody>\n",
       "</table>\n",
       "<p>33905 rows × 1 columns</p>\n",
       "</div>"
      ],
      "text/plain": [
       "                tf_idf\n",
       "nope          0.824786\n",
       "lol           0.565445\n",
       "00            0.000000\n",
       "personnel     0.000000\n",
       "personalized  0.000000\n",
       "...                ...\n",
       "fayyaz        0.000000\n",
       "fayre         0.000000\n",
       "fayette       0.000000\n",
       "faxts         0.000000\n",
       "ｙｏｕ           0.000000\n",
       "\n",
       "[33905 rows x 1 columns]"
      ]
     },
     "execution_count": 97,
     "metadata": {},
     "output_type": "execute_result"
    }
   ],
   "source": [
    "print(X_train.shape,'\\n')\n",
    "\n",
    "vocab, idf = vectorizer.vocabulary_,vectorizer.idf_\n",
    "\n",
    "# get the first vector out (for the first document)\n",
    "first_vector_tfidfvectorizer=tfidf_X_test[0]\n",
    " \n",
    "# place tf-idf values in a pandas data frame\n",
    "df = pd.DataFrame(first_vector_tfidfvectorizer.T.todense(), index=vectorizer.get_feature_names(), columns=[\"tf_idf\"])\n",
    "df.sort_values(by=[\"tf_idf\"],ascending=False)"
   ]
  },
  {
   "cell_type": "markdown",
   "id": "8d58f391",
   "metadata": {},
   "source": [
    "### Logistic Regression"
   ]
  },
  {
   "cell_type": "code",
   "execution_count": 20,
   "id": "018ea55a",
   "metadata": {},
   "outputs": [
    {
     "name": "stdout",
     "output_type": "stream",
     "text": [
      "              precision    recall  f1-score   support\n",
      "\n",
      "           0       0.97      1.00      0.98     14430\n",
      "           1       0.96      0.57      0.72      1148\n",
      "\n",
      "    accuracy                           0.97     15578\n",
      "   macro avg       0.96      0.79      0.85     15578\n",
      "weighted avg       0.97      0.97      0.96     15578\n",
      "\n",
      "[[14404    26]\n",
      " [  489   659]]\n",
      "0.9669405571960457\n"
     ]
    }
   ],
   "source": [
    "model = LogisticRegression()\n",
    "model.fit(tfidf_X_train, y_train)\n",
    "\n",
    "y_pred = model.predict(tfidf_X_test)\n",
    "\n",
    "print(classification_report(y_test, y_pred))\n",
    "print(confusion_matrix(y_test, y_pred))\n",
    "print(accuracy_score(y_test, y_pred))"
   ]
  },
  {
   "cell_type": "markdown",
   "id": "f39d0e19",
   "metadata": {},
   "source": [
    "### Random Forests"
   ]
  },
  {
   "cell_type": "code",
   "execution_count": 21,
   "id": "50e39358",
   "metadata": {
    "scrolled": true
   },
   "outputs": [
    {
     "name": "stdout",
     "output_type": "stream",
     "text": [
      "              precision    recall  f1-score   support\n",
      "\n",
      "           0       0.98      1.00      0.99     14430\n",
      "           1       0.98      0.68      0.81      1148\n",
      "\n",
      "    accuracy                           0.98     15578\n",
      "   macro avg       0.98      0.84      0.90     15578\n",
      "weighted avg       0.98      0.98      0.97     15578\n",
      "\n",
      "[[14414    16]\n",
      " [  363   785]]\n",
      "0.9756708178200025\n"
     ]
    }
   ],
   "source": [
    "model = RandomForestClassifier()\n",
    "model.fit(tfidf_X_train, y_train)\n",
    "\n",
    "y_pred = model.predict(tfidf_X_test)\n",
    "\n",
    "print(classification_report(y_test, y_pred))\n",
    "print(confusion_matrix(y_test, y_pred))\n",
    "print(accuracy_score(y_test, y_pred))"
   ]
  },
  {
   "cell_type": "markdown",
   "id": "a3362c81",
   "metadata": {},
   "source": [
    "# Predicting SPAM through Tweet Source"
   ]
  },
  {
   "cell_type": "markdown",
   "id": "ae900688",
   "metadata": {},
   "source": [
    "### Train Test Split"
   ]
  },
  {
   "cell_type": "code",
   "execution_count": 22,
   "id": "41e61f3d",
   "metadata": {},
   "outputs": [],
   "source": [
    "#For models predicting using text\n",
    "X_train, X_test, y_train, y_test = train_test_split(data['source'], data['spam'], test_size=1/3, random_state=0)\n",
    "\n",
    "vectorizer = TfidfVectorizer()\n",
    "tfidf_X_train = vectorizer.fit_transform(X_train)\n",
    "tfidf_X_test  = vectorizer.transform(X_test)"
   ]
  },
  {
   "cell_type": "markdown",
   "id": "7d9a318b",
   "metadata": {},
   "source": [
    "### Logistic Regression"
   ]
  },
  {
   "cell_type": "code",
   "execution_count": 23,
   "id": "03d7f0e0",
   "metadata": {},
   "outputs": [
    {
     "name": "stdout",
     "output_type": "stream",
     "text": [
      "              precision    recall  f1-score   support\n",
      "\n",
      "           0       0.95      1.00      0.98     14430\n",
      "           1       0.99      0.39      0.56      1148\n",
      "\n",
      "    accuracy                           0.96     15578\n",
      "   macro avg       0.97      0.70      0.77     15578\n",
      "weighted avg       0.96      0.96      0.95     15578\n",
      "\n",
      "[[14424     6]\n",
      " [  695   453]]\n",
      "0.9550006419309283\n"
     ]
    }
   ],
   "source": [
    "model = LogisticRegression()\n",
    "model.fit(tfidf_X_train, y_train)\n",
    "\n",
    "y_pred = model.predict(tfidf_X_test)\n",
    "\n",
    "print(classification_report(y_test, y_pred))\n",
    "print(confusion_matrix(y_test, y_pred))\n",
    "print(accuracy_score(y_test, y_pred))"
   ]
  },
  {
   "cell_type": "markdown",
   "id": "41851699",
   "metadata": {},
   "source": [
    "### Random Forests"
   ]
  },
  {
   "cell_type": "code",
   "execution_count": 24,
   "id": "fda04701",
   "metadata": {},
   "outputs": [
    {
     "name": "stdout",
     "output_type": "stream",
     "text": [
      "              precision    recall  f1-score   support\n",
      "\n",
      "           0       0.96      1.00      0.98     14430\n",
      "           1       0.97      0.42      0.59      1148\n",
      "\n",
      "    accuracy                           0.96     15578\n",
      "   macro avg       0.96      0.71      0.78     15578\n",
      "weighted avg       0.96      0.96      0.95     15578\n",
      "\n",
      "[[14414    16]\n",
      " [  663   485]]\n",
      "0.9564128899730389\n"
     ]
    }
   ],
   "source": [
    "model = RandomForestClassifier()\n",
    "model.fit(tfidf_X_train, y_train)\n",
    "\n",
    "y_pred = model.predict(tfidf_X_test)\n",
    "\n",
    "print(classification_report(y_test, y_pred))\n",
    "print(confusion_matrix(y_test, y_pred))\n",
    "print(accuracy_score(y_test, y_pred))"
   ]
  },
  {
   "cell_type": "markdown",
   "id": "ab682cce",
   "metadata": {},
   "source": [
    "# Predicting SPAM through likes, replies, and quotes"
   ]
  },
  {
   "cell_type": "markdown",
   "id": "19a76ed4",
   "metadata": {},
   "source": [
    "### Train Test Split"
   ]
  },
  {
   "cell_type": "code",
   "execution_count": 25,
   "id": "c19d740c",
   "metadata": {},
   "outputs": [],
   "source": [
    "subset = data.drop(random.sample(data.index[data['spam']==0].tolist(),40042))\n",
    "\n",
    "X_train, X_test, y_train, y_test = train_test_split(subset.drop(['id', 'lang', 'created_at', 'spam','text', 'source'], axis=1), subset['spam'], test_size=1/3, random_state=0)"
   ]
  },
  {
   "cell_type": "markdown",
   "id": "53841621",
   "metadata": {},
   "source": [
    "### Logistic Regression"
   ]
  },
  {
   "cell_type": "code",
   "execution_count": 26,
   "id": "ca2d0638",
   "metadata": {},
   "outputs": [
    {
     "name": "stdout",
     "output_type": "stream",
     "text": [
      "              precision    recall  f1-score   support\n",
      "\n",
      "           0       0.89      0.17      0.29      1108\n",
      "           1       0.54      0.98      0.70      1122\n",
      "\n",
      "    accuracy                           0.58      2230\n",
      "   macro avg       0.72      0.57      0.49      2230\n",
      "weighted avg       0.72      0.58      0.49      2230\n",
      "\n",
      "[[ 188  920]\n",
      " [  23 1099]]\n",
      "0.5771300448430493\n"
     ]
    }
   ],
   "source": [
    "model = LogisticRegression()\n",
    "model.fit(X_train, y_train)\n",
    "\n",
    "y_pred = model.predict(X_test)\n",
    "\n",
    "print(classification_report(y_test, y_pred))\n",
    "print(confusion_matrix(y_test, y_pred))\n",
    "print(accuracy_score(y_test, y_pred))"
   ]
  },
  {
   "cell_type": "markdown",
   "id": "462b2aa2",
   "metadata": {},
   "source": [
    "### Random Forests\n"
   ]
  },
  {
   "cell_type": "code",
   "execution_count": 27,
   "id": "88f23801",
   "metadata": {
    "scrolled": true
   },
   "outputs": [
    {
     "name": "stdout",
     "output_type": "stream",
     "text": [
      "              precision    recall  f1-score   support\n",
      "\n",
      "           0       0.84      0.26      0.40      1108\n",
      "           1       0.57      0.95      0.71      1122\n",
      "\n",
      "    accuracy                           0.61      2230\n",
      "   macro avg       0.70      0.61      0.55      2230\n",
      "weighted avg       0.70      0.61      0.56      2230\n",
      "\n",
      "[[ 291  817]\n",
      " [  56 1066]]\n",
      "0.6085201793721973\n"
     ]
    }
   ],
   "source": [
    "model = RandomForestClassifier()\n",
    "model.fit(X_train, y_train)\n",
    "\n",
    "y_pred = model.predict(X_test)\n",
    "\n",
    "print(classification_report(y_test, y_pred))\n",
    "print(confusion_matrix(y_test, y_pred))\n",
    "print(accuracy_score(y_test, y_pred))"
   ]
  }
 ],
 "metadata": {
  "kernelspec": {
   "display_name": "Python 3",
   "language": "python",
   "name": "python3"
  },
  "language_info": {
   "codemirror_mode": {
    "name": "ipython",
    "version": 3
   },
   "file_extension": ".py",
   "mimetype": "text/x-python",
   "name": "python",
   "nbconvert_exporter": "python",
   "pygments_lexer": "ipython3",
   "version": "3.8.8"
  }
 },
 "nbformat": 4,
 "nbformat_minor": 5
}
